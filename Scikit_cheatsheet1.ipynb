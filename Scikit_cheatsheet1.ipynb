{
 "cells": [
  {
   "cell_type": "code",
   "execution_count": 720,
   "metadata": {},
   "outputs": [],
   "source": [
    "from sklearn import datasets,preprocessing\n",
    "#import datasets and preprocessing library\n",
    "from sklearn.model_selection import train_test_split\n",
    "#import test/train splititng\n",
    "from sklearn.metrics import accuracy_score\n",
    "#import accuracy score\n",
    "import numpy as np"
   ]
  },
  {
   "cell_type": "code",
   "execution_count": 721,
   "metadata": {},
   "outputs": [
    {
     "data": {
      "text/plain": [
       "0.631578947368421"
      ]
     },
     "execution_count": 721,
     "metadata": {},
     "output_type": "execute_result"
    }
   ],
   "source": [
    "from sklearn import neighbors\n",
    "iris = datasets.load_iris()\n",
    "#load iris dataset\n",
    "X, y = iris.data[:,:2], iris.target\n",
    "X_train, X_test, y_train, y_test = train_test_split(X,y,random_state=33)\n",
    "#split into test/train\n",
    "scaler = preprocessing.StandardScaler().fit(X_train)\n",
    "X_train = scaler.transform(X_train)\n",
    "X_test = scaler.transform(X_test)\n",
    "#scale feature data\n",
    "knn = neighbors.KNeighborsClassifier(n_neighbors=5)\n",
    "#def neighbors model\n",
    "knn.fit(X_train, y_train)\n",
    "y_pred = knn.predict(X_test)\n",
    "#fit, predict and grade model accuracy\n",
    "accuracy_score(y_test, y_pred)"
   ]
  },
  {
   "cell_type": "code",
   "execution_count": 722,
   "metadata": {},
   "outputs": [],
   "source": [
    "import numpy as np\n",
    "#def feature and target vars\n",
    "X = np.random.random((10,5))\n",
    "y = np.array(['M','M','F','F','M','F','M','M','F','F','F'])\n",
    "X[X<0.7] = 0"
   ]
  },
  {
   "cell_type": "code",
   "execution_count": 723,
   "metadata": {},
   "outputs": [
    {
     "data": {
      "text/plain": [
       "array([[-0.91090798, -1.59775374],\n",
       "       [-1.0271058 ,  0.08448757],\n",
       "       [ 0.59966379, -1.59775374],\n",
       "       [ 0.01867465, -0.96691325],\n",
       "       [ 0.48346596, -0.33607276],\n",
       "       [-1.25950146,  0.29476773],\n",
       "       [-1.37569929,  0.71532806],\n",
       "       [-0.79471015, -1.17719341],\n",
       "       [-1.14330363,  0.71532806],\n",
       "       [ 2.45882905,  1.55644871],\n",
       "       [-0.79471015,  0.71532806],\n",
       "       [-0.79471015,  1.34616854],\n",
       "       [-0.21372101, -0.33607276],\n",
       "       [ 0.83205945, -0.1257926 ],\n",
       "       [-0.44611666,  1.76672887],\n",
       "       [ 1.41304859,  0.29476773],\n",
       "       [ 0.01867465, -0.54635292],\n",
       "       [ 2.22643339, -0.96691325],\n",
       "       [-0.32991883, -1.17719341],\n",
       "       [ 0.13487248,  0.29476773],\n",
       "       [-1.0271058 ,  1.13588838],\n",
       "       [-1.49189712, -1.59775374],\n",
       "       [ 0.59966379, -0.54635292],\n",
       "       [-1.60809495, -0.33607276],\n",
       "       [-0.91090798,  1.13588838],\n",
       "       [ 1.64544425, -0.1257926 ],\n",
       "       [ 0.25107031,  0.71532806],\n",
       "       [ 0.48346596, -1.8080339 ],\n",
       "       [ 1.8778399 , -0.54635292],\n",
       "       [ 1.18065293, -0.1257926 ],\n",
       "       [ 0.71586162, -0.54635292],\n",
       "       [-0.09752318, -1.17719341],\n",
       "       [-0.91090798,  0.92560822],\n",
       "       [-0.79471015,  1.55644871],\n",
       "       [ 1.18065293, -0.54635292],\n",
       "       [-0.67851232, -0.75663309],\n",
       "       [-0.79471015,  1.55644871],\n",
       "       [-0.21372101, -1.17719341],\n",
       "       [ 0.36726814, -0.1257926 ],\n",
       "       [ 0.94825728, -0.33607276],\n",
       "       [ 0.71586162, -0.54635292],\n",
       "       [-1.72429277, -0.1257926 ],\n",
       "       [ 1.64544425,  1.13588838],\n",
       "       [-0.79471015,  0.92560822],\n",
       "       [ 0.59966379, -1.17719341],\n",
       "       [-1.60809495,  0.29476773],\n",
       "       [ 2.11023556, -0.1257926 ],\n",
       "       [ 0.71586162,  0.29476773],\n",
       "       [-0.79471015,  1.55644871],\n",
       "       [ 0.83205945,  0.29476773],\n",
       "       [ 0.59966379, -0.75663309],\n",
       "       [-0.91090798,  0.92560822],\n",
       "       [-0.67851232,  0.71532806],\n",
       "       [ 0.71586162, -0.75663309],\n",
       "       [ 0.01867465,  1.97700903],\n",
       "       [-0.09752318,  2.81812969],\n",
       "       [-1.37569929,  0.29476773],\n",
       "       [ 1.29685076,  0.08448757],\n",
       "       [ 0.59966379, -0.33607276],\n",
       "       [-0.32991883,  0.92560822],\n",
       "       [-0.09752318, -0.96691325],\n",
       "       [-0.91090798,  0.50504789],\n",
       "       [ 0.25107031, -1.8080339 ],\n",
       "       [-1.0271058 , -0.1257926 ],\n",
       "       [-0.91090798, -2.22859423],\n",
       "       [ 0.94825728, -0.1257926 ],\n",
       "       [-0.09752318, -0.54635292],\n",
       "       [-0.32991883, -0.96691325],\n",
       "       [-0.32991883, -1.59775374],\n",
       "       [-1.14330363,  0.08448757],\n",
       "       [ 0.25107031, -0.33607276],\n",
       "       [-0.91090798, -0.1257926 ],\n",
       "       [ 1.29685076,  0.08448757],\n",
       "       [ 1.06445511, -1.17719341],\n",
       "       [-0.56231449,  1.34616854],\n",
       "       [-0.67851232,  2.1872892 ],\n",
       "       [-0.91090798,  0.71532806],\n",
       "       [-1.37569929,  1.13588838],\n",
       "       [ 2.22643339,  1.55644871],\n",
       "       [ 1.76164208, -0.33607276],\n",
       "       [-1.37569929,  0.08448757],\n",
       "       [-0.32991883, -1.38747358],\n",
       "       [ 0.01867465, -0.75663309],\n",
       "       [ 1.06445511,  0.50504789],\n",
       "       [ 0.01867465, -0.75663309],\n",
       "       [-0.44611666,  1.34616854],\n",
       "       [-0.91090798,  0.71532806],\n",
       "       [ 0.25107031, -0.75663309],\n",
       "       [-0.09752318, -0.54635292],\n",
       "       [ 0.36726814, -0.54635292],\n",
       "       [-0.79471015,  0.50504789],\n",
       "       [-0.21372101, -0.1257926 ],\n",
       "       [-0.44611666, -0.1257926 ],\n",
       "       [-0.44611666,  1.76672887],\n",
       "       [ 1.06445511,  0.50504789],\n",
       "       [-1.0271058 , -1.17719341],\n",
       "       [ 0.48346596,  0.71532806],\n",
       "       [-0.32991883, -1.38747358],\n",
       "       [ 2.22643339, -0.54635292],\n",
       "       [-0.44611666,  0.71532806],\n",
       "       [ 1.06445511, -0.1257926 ],\n",
       "       [-0.32991883,  2.39756936],\n",
       "       [-0.91090798,  0.29476773],\n",
       "       [-1.14330363, -0.1257926 ],\n",
       "       [ 0.01867465, -0.75663309],\n",
       "       [ 0.13487248, -0.1257926 ],\n",
       "       [ 1.52924642, -0.1257926 ],\n",
       "       [-1.0271058 , -1.38747358],\n",
       "       [ 0.59966379, -1.17719341],\n",
       "       [-0.21372101, -0.1257926 ],\n",
       "       [ 2.22643339, -0.1257926 ],\n",
       "       [-0.44611666,  0.71532806]])"
      ]
     },
     "execution_count": 723,
     "metadata": {},
     "output_type": "execute_result"
    }
   ],
   "source": [
    "from sklearn.preprocessing import StandardScaler\n",
    "#scale feature vars with standardscaler\n",
    "scaler = StandardScaler().fit(X_train)\n",
    "standardized_X = scaler.transform(X_train)\n",
    "standardized_X_test = scaler.transform(X_test)\n",
    "standardized_X"
   ]
  },
  {
   "cell_type": "code",
   "execution_count": 724,
   "metadata": {},
   "outputs": [
    {
     "data": {
      "text/plain": [
       "array([[-0.49528034, -0.86873321],\n",
       "       [-0.99663389,  0.08198101],\n",
       "       [ 0.35138344, -0.93623164],\n",
       "       [ 0.01931008, -0.99981354],\n",
       "       [ 0.8211053 , -0.57077674],\n",
       "       [-0.97368976,  0.22787772],\n",
       "       [-0.88722619,  0.46133468],\n",
       "       [-0.55952344, -0.82881452],\n",
       "       [-0.84774384,  0.53040587],\n",
       "       [ 0.84494482,  0.53485348],\n",
       "       [-0.74325279,  0.66901068],\n",
       "       [-0.5083722 ,  0.86113745],\n",
       "       [-0.53661905, -0.84382462],\n",
       "       [ 0.98876421, -0.14948357],\n",
       "       [-0.24482539,  0.96956719],\n",
       "       [ 0.97892746,  0.20420828],\n",
       "       [ 0.03416061, -0.99941636],\n",
       "       [ 0.91723587, -0.39834451],\n",
       "       [-0.26986101, -0.96289928],\n",
       "       [ 0.41606981,  0.90933268],\n",
       "       [-0.67069687,  0.74173156],\n",
       "       [-0.68247967, -0.73090458],\n",
       "       [ 0.73920089, -0.673485  ],\n",
       "       [-0.97885225, -0.2045685 ],\n",
       "       [-0.62561479,  0.78013212],\n",
       "       [ 0.99709052, -0.07622659],\n",
       "       [ 0.33117933,  0.94356783],\n",
       "       [ 0.25832285, -0.96605864],\n",
       "       [ 0.96018539, -0.27936359],\n",
       "       [ 0.99437196, -0.1059453 ],\n",
       "       [ 0.79493118, -0.60669962],\n",
       "       [-0.08256097, -0.99658602],\n",
       "       [-0.70142433,  0.71274393],\n",
       "       [-0.4547444 ,  0.89062199],\n",
       "       [ 0.90753888, -0.41996806],\n",
       "       [-0.66762772, -0.74449528],\n",
       "       [-0.4547444 ,  0.89062199],\n",
       "       [-0.17863125, -0.98391609],\n",
       "       [ 0.94604698, -0.32402949],\n",
       "       [ 0.94255475, -0.33405172],\n",
       "       [ 0.79493118, -0.60669962],\n",
       "       [-0.99734949, -0.07275979],\n",
       "       [ 0.82295575,  0.56810547],\n",
       "       [-0.65142041,  0.75871698],\n",
       "       [ 0.45390264, -0.89105129],\n",
       "       [-0.98361195,  0.18029847],\n",
       "       [ 0.998228  , -0.05950506],\n",
       "       [ 0.92467756,  0.38075111],\n",
       "       [-0.4547444 ,  0.89062199],\n",
       "       [ 0.9425987 ,  0.33392768],\n",
       "       [ 0.62112475, -0.78371171],\n",
       "       [-0.70142433,  0.71274393],\n",
       "       [-0.68818984,  0.72553067],\n",
       "       [ 0.68726451, -0.72640725],\n",
       "       [ 0.00944549,  0.99995539],\n",
       "       [-0.03458494,  0.99940176],\n",
       "       [-0.97780605,  0.20951212],\n",
       "       [ 0.99788458,  0.06501044],\n",
       "       [ 0.87234408, -0.48889242],\n",
       "       [-0.33574469,  0.94195303],\n",
       "       [-0.10035118, -0.99495208],\n",
       "       [-0.87456948,  0.48490022],\n",
       "       [ 0.13754391, -0.99049567],\n",
       "       [-0.99258353, -0.12156456],\n",
       "       [-0.37835186, -0.92566186],\n",
       "       [ 0.99131557, -0.13150456],\n",
       "       [-0.17572106, -0.98444   ],\n",
       "       [-0.32292762, -0.94642367],\n",
       "       [-0.202223  , -0.9793395 ],\n",
       "       [-0.99728069,  0.0736968 ],\n",
       "       [ 0.59849733, -0.8011248 ],\n",
       "       [-0.99059902, -0.1367976 ],\n",
       "       [ 0.99788458,  0.06501044],\n",
       "       [ 0.67069687, -0.74173156],\n",
       "       [-0.38543929,  0.9227332 ],\n",
       "       [-0.2962791 ,  0.95510141],\n",
       "       [-0.78647995,  0.61761581],\n",
       "       [-0.77111554,  0.63669524],\n",
       "       [ 0.8195871 ,  0.57295461],\n",
       "       [ 0.98228504, -0.18739292],\n",
       "       [-0.99811946,  0.06129878],\n",
       "       [-0.23133384, -0.97287443],\n",
       "       [ 0.02467374, -0.99969556],\n",
       "       [ 0.90346435,  0.42866323],\n",
       "       [ 0.02467374, -0.99969556],\n",
       "       [-0.31457334,  0.94923317],\n",
       "       [-0.78647995,  0.61761581],\n",
       "       [ 0.31493966, -0.9491117 ],\n",
       "       [-0.17572106, -0.98444   ],\n",
       "       [ 0.55788555, -0.8299179 ],\n",
       "       [-0.84398687,  0.53636384],\n",
       "       [-0.86180315, -0.50724287],\n",
       "       [-0.9624695 , -0.27138986],\n",
       "       [-0.24482539,  0.96956719],\n",
       "       [ 0.90346435,  0.42866323],\n",
       "       [-0.65743868, -0.75350805],\n",
       "       [ 0.55996571,  0.82851578],\n",
       "       [-0.23133384, -0.97287443],\n",
       "       [ 0.97118595, -0.238323  ],\n",
       "       [-0.52917695,  0.8485115 ],\n",
       "       [ 0.99308956, -0.11735893],\n",
       "       [-0.13632096,  0.99066472],\n",
       "       [-0.95142549,  0.3078791 ],\n",
       "       [-0.9940016 , -0.10936556],\n",
       "       [ 0.02467374, -0.99969556],\n",
       "       [ 0.73129427, -0.68206209],\n",
       "       [ 0.99663389, -0.08198101],\n",
       "       [-0.5949835 , -0.80373792],\n",
       "       [ 0.45390264, -0.89105129],\n",
       "       [-0.86180315, -0.50724287],\n",
       "       [ 0.99840771, -0.05640964],\n",
       "       [-0.52917695,  0.8485115 ]])"
      ]
     },
     "execution_count": 724,
     "metadata": {},
     "output_type": "execute_result"
    }
   ],
   "source": [
    "from sklearn.preprocessing import Normalizer\n",
    "#scale feature vars with normalizer\n",
    "scaler = Normalizer().fit(X_train)\n",
    "normalized_X = scaler.transform(X_train)\n",
    "normalized_X_test = scaler.transform(X_test)\n",
    "normalized_X"
   ]
  },
  {
   "cell_type": "code",
   "execution_count": 725,
   "metadata": {},
   "outputs": [
    {
     "data": {
      "text/plain": [
       "array([[0., 0., 0., 0., 0.],\n",
       "       [0., 0., 1., 1., 0.],\n",
       "       [1., 0., 1., 0., 0.],\n",
       "       [1., 0., 1., 0., 0.],\n",
       "       [0., 0., 0., 0., 0.],\n",
       "       [0., 0., 0., 1., 1.],\n",
       "       [0., 1., 0., 0., 0.],\n",
       "       [0., 1., 0., 0., 0.],\n",
       "       [1., 1., 0., 0., 0.],\n",
       "       [0., 0., 0., 0., 1.]])"
      ]
     },
     "execution_count": 725,
     "metadata": {},
     "output_type": "execute_result"
    }
   ],
   "source": [
    "from sklearn.preprocessing import Binarizer\n",
    "#binarize feature vars\n",
    "binarizer = Binarizer(threshold=0.0).fit(X)\n",
    "binary_X = binarizer.transform(X)\n",
    "binary_X"
   ]
  },
  {
   "cell_type": "code",
   "execution_count": 726,
   "metadata": {},
   "outputs": [
    {
     "data": {
      "text/plain": [
       "array([1, 1, 0, 0, 1, 0, 1, 1, 0, 0, 0])"
      ]
     },
     "execution_count": 726,
     "metadata": {},
     "output_type": "execute_result"
    }
   ],
   "source": [
    "from sklearn.preprocessing import LabelEncoder\n",
    "#transform target var with labelencoder\n",
    "enc = LabelEncoder()\n",
    "y = enc.fit_transform(y)\n",
    "y"
   ]
  },
  {
   "cell_type": "code",
   "execution_count": 727,
   "metadata": {},
   "outputs": [],
   "source": [
    "import numpy as np\n",
    "from sklearn.model_selection import train_test_split\n",
    "#def target and feature vars\n",
    "X = np.random.random((10,5))\n",
    "y = np.array(['M','M','F','F','M','F','M','M','F','F'])\n",
    "X[X<0.7] = 0\n",
    "#split into train/test\n",
    "X_train, X_test, y_train, y_test = train_test_split(X,y)"
   ]
  },
  {
   "cell_type": "code",
   "execution_count": 728,
   "metadata": {},
   "outputs": [
    {
     "data": {
      "text/plain": [
       "array([[0.72299385, 0.79976262, 0.83027015, 0.92146546, 0.81496471],\n",
       "       [0.72299385, 0.79976262, 0.78683166, 0.92146546, 0.81496471],\n",
       "       [0.72299385, 0.79976262, 0.74339318, 0.92146546, 0.71017651],\n",
       "       [0.72299385, 0.79976262, 0.78683166, 0.99931168, 0.96376134],\n",
       "       [0.72299385, 0.79976262, 0.78683166, 0.92146546, 0.90901626],\n",
       "       [0.72299385, 0.79976262, 0.78683166, 0.92146546, 0.73841729],\n",
       "       [0.72299385, 0.79976262, 0.78683166, 0.84361923, 0.75345216]])"
      ]
     },
     "execution_count": 728,
     "metadata": {},
     "output_type": "execute_result"
    }
   ],
   "source": [
    "from sklearn.impute import SimpleImputer\n",
    "#replace missing values \n",
    "imp = SimpleImputer(missing_values=0,strategy='mean')\n",
    "imp.fit_transform(X_train)"
   ]
  },
  {
   "cell_type": "code",
   "execution_count": 729,
   "metadata": {},
   "outputs": [
    {
     "data": {
      "text/plain": [
       "array([[1.        , 0.        , 0.        , ..., 0.        , 0.        ,\n",
       "        0.        ],\n",
       "       [1.        , 0.72299385, 0.79976262, ..., 0.        , 0.        ,\n",
       "        0.62066644],\n",
       "       [1.        , 0.        , 0.        , ..., 0.30441075, 0.27187495,\n",
       "        0.24281662],\n",
       "       ...,\n",
       "       [1.        , 0.        , 0.        , ..., 0.        , 0.        ,\n",
       "        0.        ],\n",
       "       [1.        , 0.        , 0.87470282, ..., 0.        , 0.        ,\n",
       "        0.        ],\n",
       "       [1.        , 0.        , 0.        , ..., 0.        , 0.        ,\n",
       "        0.        ]])"
      ]
     },
     "execution_count": 729,
     "metadata": {},
     "output_type": "execute_result"
    }
   ],
   "source": [
    "from sklearn.preprocessing import PolynomialFeatures\n",
    "#def polynomial features model\n",
    "poly = PolynomialFeatures(5)\n",
    "poly.fit_transform(X)"
   ]
  },
  {
   "cell_type": "code",
   "execution_count": 730,
   "metadata": {},
   "outputs": [
    {
     "data": {
      "text/plain": [
       "array([ 0.94143905,  1.51408589,  0.06217379,  1.55899811,  1.40352779,\n",
       "        1.11332084,  0.00905584,  0.15632042,  1.30549763,  1.59182105,\n",
       "        1.52229163, -0.0237671 ,  1.05199715,  1.21955674,  1.65314473,\n",
       "        1.428145  ,  1.08870363,  0.22584984,  1.11332084,  1.80040931,\n",
       "        0.26255632,  0.38952589,  1.43635074,  0.25435058,  1.57929312,\n",
       "        1.35040984,  1.15823305,  1.28088042,  1.43635074,  1.01917421,\n",
       "        0.994557  ,  1.51408589,  0.93323332,  1.24417394,  1.51408589,\n",
       "        1.57540958,  1.13361585,  0.88011537])"
      ]
     },
     "execution_count": 730,
     "metadata": {},
     "output_type": "execute_result"
    }
   ],
   "source": [
    "from sklearn.linear_model import LinearRegression\n",
    "iris = datasets.load_iris()\n",
    "X, y = iris.data[:,:2], iris.target\n",
    "#load iris dataset and divide into target and feature vars\n",
    "X_train, X_test, y_train, y_test = train_test_split(X,y,random_state=33)\n",
    "#split into test/target\n",
    "scaler = preprocessing.StandardScaler().fit(X_train)\n",
    "X_train = scaler.transform(X_train)\n",
    "X_test = scaler.transform(X_test)\n",
    "#scale with standardscaler\n",
    "lr = LinearRegression(fit_intercept = True)\n",
    "lr.fit(X_train, y_train)\n",
    "y_pred = lr.predict(X_test)\n",
    "#fit and predict target vars\n",
    "y_pred"
   ]
  },
  {
   "cell_type": "code",
   "execution_count": 731,
   "metadata": {},
   "outputs": [],
   "source": [
    "#regression accuracy functions"
   ]
  },
  {
   "cell_type": "code",
   "execution_count": 732,
   "metadata": {},
   "outputs": [
    {
     "data": {
      "text/plain": [
       "0.43689429711441596"
      ]
     },
     "execution_count": 732,
     "metadata": {},
     "output_type": "execute_result"
    }
   ],
   "source": [
    "from sklearn.metrics import mean_absolute_error\n",
    "mean_absolute_error(y_test,y_pred)"
   ]
  },
  {
   "cell_type": "code",
   "execution_count": 733,
   "metadata": {},
   "outputs": [
    {
     "data": {
      "text/plain": [
       "0.27772586541100364"
      ]
     },
     "execution_count": 733,
     "metadata": {},
     "output_type": "execute_result"
    }
   ],
   "source": [
    "from sklearn.metrics import mean_squared_error\n",
    "mean_squared_error(y_test,y_pred)"
   ]
  },
  {
   "cell_type": "code",
   "execution_count": 734,
   "metadata": {},
   "outputs": [
    {
     "data": {
      "text/plain": [
       "0.5568661329795699"
      ]
     },
     "execution_count": 734,
     "metadata": {},
     "output_type": "execute_result"
    }
   ],
   "source": [
    "from sklearn.metrics import r2_score\n",
    "r2_score(y_test,y_pred)"
   ]
  },
  {
   "cell_type": "code",
   "execution_count": 735,
   "metadata": {},
   "outputs": [],
   "source": [
    "#load iris dataset\n",
    "iris = datasets.load_iris()\n",
    "#def target and feature vars\n",
    "X, y = iris.data, iris.target\n",
    "#test and train vars\n",
    "X_train, X_test, y_train, y_test = train_test_split(X,y,test_size=0.33)"
   ]
  },
  {
   "cell_type": "code",
   "execution_count": 736,
   "metadata": {},
   "outputs": [
    {
     "data": {
      "text/plain": [
       "array([2, 1, 0, 1, 1, 0, 0, 1, 0, 2, 2, 2, 1, 0, 0, 1, 1, 0, 1, 1, 0, 1,\n",
       "       0, 0, 1, 2, 2, 2, 2, 2, 2, 0, 1, 2, 0, 2, 2, 1, 1, 0, 0, 0, 2, 1,\n",
       "       2, 2, 0, 1, 2, 2])"
      ]
     },
     "execution_count": 736,
     "metadata": {},
     "output_type": "execute_result"
    }
   ],
   "source": [
    "from sklearn.svm import SVC\n",
    "svc = SVC(kernel='linear')\n",
    "#define svc model\n",
    "svc.fit(X_train, y_train)\n",
    "y_pred = svc.predict(X_test)\n",
    "#fit and predict target vars\n",
    "y_pred"
   ]
  },
  {
   "cell_type": "code",
   "execution_count": 737,
   "metadata": {},
   "outputs": [],
   "source": [
    "#classification accuracy functions"
   ]
  },
  {
   "cell_type": "code",
   "execution_count": 738,
   "metadata": {},
   "outputs": [
    {
     "data": {
      "text/plain": [
       "0.98"
      ]
     },
     "execution_count": 738,
     "metadata": {},
     "output_type": "execute_result"
    }
   ],
   "source": [
    "from sklearn.metrics import accuracy_score\n",
    "accuracy_score(y_test,y_pred)"
   ]
  },
  {
   "cell_type": "code",
   "execution_count": 739,
   "metadata": {},
   "outputs": [
    {
     "name": "stdout",
     "output_type": "stream",
     "text": [
      "              precision    recall  f1-score   support\n",
      "\n",
      "           0       1.00      1.00      1.00        16\n",
      "           1       0.94      1.00      0.97        15\n",
      "           2       1.00      0.95      0.97        19\n",
      "\n",
      "    accuracy                           0.98        50\n",
      "   macro avg       0.98      0.98      0.98        50\n",
      "weighted avg       0.98      0.98      0.98        50\n",
      "\n"
     ]
    }
   ],
   "source": [
    "from sklearn.metrics import classification_report\n",
    "print(classification_report(y_test,y_pred))"
   ]
  },
  {
   "cell_type": "code",
   "execution_count": 740,
   "metadata": {},
   "outputs": [
    {
     "name": "stdout",
     "output_type": "stream",
     "text": [
      "[[16  0  0]\n",
      " [ 0 15  0]\n",
      " [ 0  1 18]]\n"
     ]
    }
   ],
   "source": [
    "from sklearn.metrics import confusion_matrix\n",
    "print(confusion_matrix(y_test,y_pred))"
   ]
  },
  {
   "cell_type": "code",
   "execution_count": 741,
   "metadata": {},
   "outputs": [
    {
     "data": {
      "text/plain": [
       "array([2, 1, 0, 1, 1, 0, 0, 1, 0, 2, 2, 2, 1, 0, 0, 1, 1, 0, 1, 1, 0, 1,\n",
       "       0, 0, 1, 2, 2, 2, 2, 2, 2, 0, 1, 2, 0, 2, 2, 1, 1, 0, 0, 0, 2, 1,\n",
       "       2, 2, 0, 1, 2, 2])"
      ]
     },
     "execution_count": 741,
     "metadata": {},
     "output_type": "execute_result"
    }
   ],
   "source": [
    "from sklearn.naive_bayes import GaussianNB\n",
    "#import and define naive bayes model\n",
    "gnb = GaussianNB()\n",
    "gnb.fit(X_train, y_train)\n",
    "y_pred = gnb.predict(X_test)\n",
    "#fit and predict target vars\n",
    "y_pred"
   ]
  },
  {
   "cell_type": "code",
   "execution_count": 742,
   "metadata": {},
   "outputs": [
    {
     "data": {
      "text/plain": [
       "1.0"
      ]
     },
     "execution_count": 742,
     "metadata": {},
     "output_type": "execute_result"
    }
   ],
   "source": [
    "from sklearn import neighbors\n",
    "knn = neighbors.KNeighborsClassifier(n_neighbors=5)\n",
    "#import and def kn model\n",
    "knn.fit(X_train, y_train)\n",
    "y_pred = knn.predict_proba(X_test)\n",
    "#fit and predict probabilities for input\n",
    "knn.score(X_test, y_test)\n",
    "#score accuracy of given model"
   ]
  },
  {
   "cell_type": "code",
   "execution_count": 743,
   "metadata": {},
   "outputs": [
    {
     "data": {
      "text/plain": [
       "array([[-2.71949523, -0.11442134],\n",
       "       [ 2.99979224,  0.88584137],\n",
       "       [-2.51694496, -0.00703228],\n",
       "       [-2.7891462 , -0.17223991],\n",
       "       [ 0.23659214, -0.27544181],\n",
       "       [-2.52563272,  1.0720063 ],\n",
       "       [ 1.35903816, -0.1146686 ],\n",
       "       [-2.31609315,  1.32269396],\n",
       "       [-2.64232378, -0.3428167 ],\n",
       "       [ 2.70247206,  0.43753897],\n",
       "       [ 1.40769192, -0.69801222],\n",
       "       [ 2.51465268,  0.39809258],\n",
       "       [ 1.17832426,  0.13384115],\n",
       "       [ 0.64873351, -1.14252881],\n",
       "       [ 1.31414267, -0.54038604],\n",
       "       [ 1.6450262 ,  0.33754463],\n",
       "       [-2.55158872,  0.28955525],\n",
       "       [-2.57022023,  0.790538  ],\n",
       "       [-2.12092495,  0.42452441],\n",
       "       [-0.63136728, -0.98497363],\n",
       "       [-2.22602744,  0.37520344],\n",
       "       [-2.53972541, -0.14386814],\n",
       "       [ 1.54354357,  0.57093514],\n",
       "       [-2.7772829 , -0.6056633 ],\n",
       "       [ 0.73440277,  0.06697351],\n",
       "       [-2.45266778,  0.48366752],\n",
       "       [ 1.88060471, -0.42783369],\n",
       "       [-0.20549064, -0.3398913 ],\n",
       "       [ 0.98507562,  0.02053149],\n",
       "       [ 2.44884476,  0.04922378],\n",
       "       [-0.79242081, -0.73849873],\n",
       "       [ 1.63071031, -0.3045681 ],\n",
       "       [ 0.03972364, -0.67146295],\n",
       "       [-2.25978259, -0.05401646],\n",
       "       [ 1.21811861, -0.02186591],\n",
       "       [-2.61586591, -0.20114455],\n",
       "       [ 3.01146375,  0.45282636],\n",
       "       [ 0.34818415, -0.22666301],\n",
       "       [ 0.69724886, -0.43409989],\n",
       "       [-2.53426684,  0.14126148],\n",
       "       [ 1.27147865, -0.10142535],\n",
       "       [ 0.90141464,  0.24946901],\n",
       "       [ 0.98463131,  0.38343521],\n",
       "       [ 0.10597586, -0.68549786],\n",
       "       [ 2.00233227,  0.19859258],\n",
       "       [-2.63914823,  0.3027985 ],\n",
       "       [-2.3739656 ,  0.11344116],\n",
       "       [-2.59536847,  0.29617687],\n",
       "       [ 3.57530549,  0.57034879],\n",
       "       [-2.55807825,  0.29009741],\n",
       "       [ 1.70314407, -0.46339432],\n",
       "       [ 1.4628038 , -0.70854468],\n",
       "       [-2.50006739,  0.20757767],\n",
       "       [-2.73762487, -0.25421749],\n",
       "       [ 1.02008283,  0.3749376 ],\n",
       "       [ 2.69136103,  0.65230779],\n",
       "       [ 1.48280146, -0.35506403],\n",
       "       [-0.38740506, -1.24173147],\n",
       "       [ 0.4776847 , -0.24894602],\n",
       "       [ 0.15006359, -0.54787034],\n",
       "       [ 0.76564777, -0.30146751],\n",
       "       [-2.61277514, -0.27354021],\n",
       "       [-2.47544823,  0.34683167],\n",
       "       [ 1.90291155, -0.13936047],\n",
       "       [ 2.41080225,  0.27395782],\n",
       "       [-2.30896544,  0.17422003],\n",
       "       [ 0.74442736, -0.36886802],\n",
       "       [ 2.04020915,  0.26974505],\n",
       "       [ 1.52627323, -0.5059348 ],\n",
       "       [ 1.01537654, -0.12884659],\n",
       "       [ 2.51805143,  0.46994608],\n",
       "       [ 2.00417098,  0.20101072],\n",
       "       [-2.53198383, -0.21922409],\n",
       "       [ 1.35943092,  0.7475914 ],\n",
       "       [-2.77226863,  0.04237004],\n",
       "       [-0.08328738, -0.64972209],\n",
       "       [ 1.52627323, -0.5059348 ],\n",
       "       [ 0.27616538, -0.64200685],\n",
       "       [-2.57531534,  1.15640202],\n",
       "       [ 1.18503489,  0.34415697],\n",
       "       [ 0.91180479, -0.31999856],\n",
       "       [ 0.61108377, -0.05553477],\n",
       "       [ 1.04748687, -0.48707288],\n",
       "       [ 2.65529356,  0.3723071 ],\n",
       "       [-2.87258398, -0.51706409],\n",
       "       [ 1.12836296,  0.28525408],\n",
       "       [ 2.04252147,  0.12052583],\n",
       "       [-0.07083951, -0.22129385],\n",
       "       [-2.48820408, -0.22584572],\n",
       "       [ 1.39582861, -0.26458884],\n",
       "       [-2.68735559, -0.26138127],\n",
       "       [ 1.3913989 , -0.05077056],\n",
       "       [-2.46040936,  0.55902347],\n",
       "       [ 2.06942365, -0.10070575],\n",
       "       [-2.57701564, -0.13778867],\n",
       "       [ 2.19588889,  0.45615138],\n",
       "       [ 1.75505817,  0.31688809],\n",
       "       [ 2.36549177,  0.42241045],\n",
       "       [ 1.30370308,  0.46962556],\n",
       "       [-2.42620991,  0.62533966]])"
      ]
     },
     "execution_count": 743,
     "metadata": {},
     "output_type": "execute_result"
    }
   ],
   "source": [
    "from sklearn.decomposition import PCA\n",
    "#import and def PCA model\n",
    "pca = PCA(n_components=0.95)\n",
    "pca_model = pca.fit_transform(X_train)\n",
    "#fit features\n",
    "pca_model"
   ]
  },
  {
   "cell_type": "code",
   "execution_count": 744,
   "metadata": {},
   "outputs": [
    {
     "data": {
      "text/plain": [
       "array([2, 2, 1, 2, 2, 1, 1, 0, 1, 0, 0, 0, 2, 1, 1, 2, 2, 1, 2, 2, 1, 2,\n",
       "       1, 1, 2, 0, 0, 0, 0, 0, 0, 1, 0, 0, 1, 0, 0, 2, 2, 1, 1, 1, 0, 2,\n",
       "       0, 0, 1, 2, 0, 2], dtype=int32)"
      ]
     },
     "execution_count": 744,
     "metadata": {},
     "output_type": "execute_result"
    }
   ],
   "source": [
    "from sklearn.cluster import KMeans\n",
    "#import and define kmeans model\n",
    "k_means = KMeans(n_clusters=3,random_state=0)\n",
    "k_means.fit(X_train)\n",
    "#fit and predict target vars\n",
    "y_pred = k_means.predict(X_test)\n",
    "y_pred"
   ]
  },
  {
   "cell_type": "code",
   "execution_count": 745,
   "metadata": {},
   "outputs": [],
   "source": [
    "#clustering accuracy functions"
   ]
  },
  {
   "cell_type": "code",
   "execution_count": 746,
   "metadata": {},
   "outputs": [
    {
     "data": {
      "text/plain": [
       "0.8261401042930461"
      ]
     },
     "execution_count": 746,
     "metadata": {},
     "output_type": "execute_result"
    }
   ],
   "source": [
    "from sklearn.metrics import adjusted_rand_score\n",
    "adjusted_rand_score(y_test,y_pred)"
   ]
  },
  {
   "cell_type": "code",
   "execution_count": 747,
   "metadata": {},
   "outputs": [
    {
     "data": {
      "text/plain": [
       "0.8191046543918387"
      ]
     },
     "execution_count": 747,
     "metadata": {},
     "output_type": "execute_result"
    }
   ],
   "source": [
    "from sklearn.metrics import homogeneity_score\n",
    "homogeneity_score(y_test,y_pred)"
   ]
  },
  {
   "cell_type": "code",
   "execution_count": 748,
   "metadata": {},
   "outputs": [
    {
     "data": {
      "text/plain": [
       "0.8177810710732283"
      ]
     },
     "execution_count": 748,
     "metadata": {},
     "output_type": "execute_result"
    }
   ],
   "source": [
    "from sklearn.metrics import v_measure_score\n",
    "v_measure_score(y_test,y_pred)"
   ]
  },
  {
   "cell_type": "code",
   "execution_count": 749,
   "metadata": {},
   "outputs": [
    {
     "data": {
      "text/plain": [
       "array([0.92, 0.96, 0.96, 0.92])"
      ]
     },
     "execution_count": 749,
     "metadata": {},
     "output_type": "execute_result"
    }
   ],
   "source": [
    "#model cross validation\n",
    "from sklearn.model_selection  import cross_val_score\n",
    "cross_val_score(svc, X_train, y_train, cv=4)"
   ]
  },
  {
   "cell_type": "code",
   "execution_count": 750,
   "metadata": {},
   "outputs": [],
   "source": [
    "#load iris dataset\n",
    "iris = datasets.load_iris()\n",
    "#def target and feature vars\n",
    "X, y = iris.data, iris.target\n",
    "#test and train vars\n",
    "X_train, X_test, y_train, y_test = train_test_split(X,y,test_size=0.33)"
   ]
  },
  {
   "cell_type": "code",
   "execution_count": 751,
   "metadata": {},
   "outputs": [
    {
     "name": "stdout",
     "output_type": "stream",
     "text": [
      "0.96\n",
      "1\n"
     ]
    }
   ],
   "source": [
    "#determine optimal model hyperparameters - gridsearch\n",
    "from sklearn.model_selection import GridSearchCV\n",
    "knn = neighbors.KNeighborsClassifier()\n",
    "params = {'n_neighbors':np.arange(1,3),'metric':['euclidean','cityblock']}\n",
    "grid = GridSearchCV(knn,params)\n",
    "grid.fit(X_train, y_train)\n",
    "print(grid.best_score_)\n",
    "print(grid.best_estimator_.n_neighbors)"
   ]
  },
  {
   "cell_type": "code",
   "execution_count": 752,
   "metadata": {},
   "outputs": [
    {
     "name": "stdout",
     "output_type": "stream",
     "text": [
      "0.97\n"
     ]
    }
   ],
   "source": [
    "#determine optimal model hyperparameters - randomizedsearch\n",
    "from sklearn.model_selection import RandomizedSearchCV\n",
    "params = {'n_neighbors':range(1,5),'weights':['uniform','distance']}\n",
    "rsearch = RandomizedSearchCV(estimator=knn, param_distributions=params,cv=4,n_iter=8)\n",
    "rsearch.fit(X_train,y_train)\n",
    "print(rsearch.best_score_)"
   ]
  }
 ],
 "metadata": {
  "interpreter": {
   "hash": "916dbcbb3f70747c44a77c7bcd40155683ae19c65e1c03b4aa3499c5328201f1"
  },
  "kernelspec": {
   "display_name": "Python 3.9.7 64-bit",
   "language": "python",
   "name": "python3"
  },
  "language_info": {
   "codemirror_mode": {
    "name": "ipython",
    "version": 3
   },
   "file_extension": ".py",
   "mimetype": "text/x-python",
   "name": "python",
   "nbconvert_exporter": "python",
   "pygments_lexer": "ipython3",
   "version": "3.9.7"
  },
  "orig_nbformat": 4
 },
 "nbformat": 4,
 "nbformat_minor": 2
}
