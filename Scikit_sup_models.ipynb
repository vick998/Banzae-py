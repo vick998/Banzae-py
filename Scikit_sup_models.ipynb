{
 "cells": [
  {
   "cell_type": "code",
   "execution_count": 47,
   "metadata": {},
   "outputs": [
    {
     "data": {
      "text/plain": [
       "0.7867717664972643"
      ]
     },
     "execution_count": 47,
     "metadata": {},
     "output_type": "execute_result"
    }
   ],
   "source": [
    "\n",
    "from sklearn import datasets,preprocessing\n",
    "from sklearn.model_selection import train_test_split\n",
    "from sklearn.linear_model import LinearRegression\n",
    "from sklearn.metrics import r2_score\n",
    "import numpy as np\n",
    "iris = datasets.load_iris()\n",
    "#load iris dataset\n",
    "X, y = iris.data[:,:2], iris.target\n",
    "#def target and feature vars\n",
    "X_train, X_test, y_train, y_test = train_test_split(X,y,test_size=0.33)\n",
    "#test and train vars\n",
    "scaler = preprocessing.StandardScaler().fit(X_train)\n",
    "X_train = scaler.transform(X_train)\n",
    "X_test = scaler.transform(X_test)\n",
    "#scale feature vars\n",
    "lr = LinearRegression(fit_intercept = True)\n",
    "#def linear regression model\n",
    "lr.fit(X_train, y_train)\n",
    "y_pred = lr.predict(X_test)\n",
    "#fit and predict target vars\n",
    "r2_score(y_test,y_pred)\n",
    "#score accuracy\n"
   ]
  },
  {
   "cell_type": "code",
   "execution_count": 48,
   "metadata": {},
   "outputs": [
    {
     "data": {
      "text/plain": [
       "0.651264028501221"
      ]
     },
     "execution_count": 48,
     "metadata": {},
     "output_type": "execute_result"
    }
   ],
   "source": [
    "from sklearn import datasets,preprocessing\n",
    "from sklearn.model_selection import train_test_split\n",
    "from sklearn.linear_model import LinearRegression\n",
    "from sklearn.metrics import r2_score\n",
    "from sklearn.preprocessing import Normalizer\n",
    "import numpy as np\n",
    "#load iris dataset\n",
    "iris = datasets.load_iris()\n",
    "#def target and feature vars\n",
    "X, y = iris.data[:,:2], iris.target\n",
    "#test and train vars\n",
    "X_train, X_test, y_train, y_test = train_test_split(X,y,test_size=0.33)\n",
    "scaler = Normalizer().fit(X_train)\n",
    "#different feature var scaler\n",
    "X_train = scaler.transform(X_train)\n",
    "X_test = scaler.transform(X_test)\n",
    "#scale feature vars\n",
    "lr = LinearRegression(fit_intercept = True)\n",
    "#def linear regression model\n",
    "lr.fit(X_train, y_train)\n",
    "y_pred = lr.predict(X_test)\n",
    "#fit, predict and score accuracy\n",
    "r2_score(y_test,y_pred)"
   ]
  },
  {
   "cell_type": "code",
   "execution_count": 41,
   "metadata": {},
   "outputs": [
    {
     "data": {
      "text/plain": [
       "1.0"
      ]
     },
     "execution_count": 41,
     "metadata": {},
     "output_type": "execute_result"
    }
   ],
   "source": [
    "from sklearn import datasets,preprocessing\n",
    "from sklearn.model_selection import train_test_split\n",
    "from sklearn.naive_bayes import GaussianNB\n",
    "from sklearn.metrics import accuracy_score\n",
    "import numpy as np\n",
    "#load iris dataset\n",
    "iris = datasets.load_iris()\n",
    "#def target and feature vars\n",
    "X, y = iris.data, iris.target\n",
    "#test and train vars\n",
    "X_train, X_test, y_train, y_test = train_test_split(X,y,test_size=0.33)\n",
    "scaler = preprocessing.StandardScaler().fit(X_train)\n",
    "#scale feature vars\n",
    "X_train = scaler.transform(X_train)\n",
    "X_test = scaler.transform(X_test)\n",
    "#def naive bayes model\n",
    "gnb = GaussianNB()\n",
    "gnb.fit(X_train,y_train)\n",
    "y_pred = gnb.predict(X_test)\n",
    "#fit, predict and score accuracy\n",
    "accuracy_score(y_pred,y_test)"
   ]
  },
  {
   "cell_type": "code",
   "execution_count": 54,
   "metadata": {},
   "outputs": [
    {
     "data": {
      "text/plain": [
       "array([[11,  0,  0],\n",
       "       [ 0, 15,  1],\n",
       "       [ 0,  2, 21]])"
      ]
     },
     "execution_count": 54,
     "metadata": {},
     "output_type": "execute_result"
    }
   ],
   "source": [
    "from sklearn import datasets,preprocessing\n",
    "from sklearn.model_selection import train_test_split\n",
    "from sklearn.naive_bayes import GaussianNB\n",
    "from sklearn.metrics import confusion_matrix\n",
    "from sklearn.preprocessing import Normalizer\n",
    "import numpy as np\n",
    "#load iris dataset\n",
    "iris = datasets.load_iris()\n",
    "#def target and feature vars\n",
    "X, y = iris.data, iris.target\n",
    "#test and train vars\n",
    "X_train, X_test, y_train, y_test = train_test_split(X,y,test_size=0.33)\n",
    "scaler = Normalizer().fit(X_train)\n",
    "#scale feature vars\n",
    "X_train = scaler.transform(X_train)\n",
    "X_test = scaler.transform(X_test)\n",
    "#def naive bayes model\n",
    "gnb = GaussianNB()\n",
    "gnb.fit(X_train,y_train)\n",
    "y_pred = gnb.predict(X_test)\n",
    "#fit ,predict and score accuracy via confusion matrix\n",
    "confusion_matrix(y_pred,y_test)"
   ]
  },
  {
   "cell_type": "code",
   "execution_count": 61,
   "metadata": {},
   "outputs": [
    {
     "data": {
      "text/plain": [
       "array([[18,  0,  0],\n",
       "       [ 0, 15,  0],\n",
       "       [ 0,  3, 14]])"
      ]
     },
     "execution_count": 61,
     "metadata": {},
     "output_type": "execute_result"
    }
   ],
   "source": [
    "import numpy as np\n",
    "from sklearn import datasets,preprocessing\n",
    "from sklearn.model_selection import train_test_split\n",
    "from sklearn.svm import SVC\n",
    "from sklearn.metrics import confusion_matrix\n",
    "iris = datasets.load_iris()\n",
    "#load iris dataset\n",
    "X, y = iris.data, iris.target\n",
    "#def target and feature vars\n",
    "X_train, X_test, y_train, y_test = train_test_split(X,y,test_size=0.33)\n",
    "#test and train vars\n",
    "scaler = preprocessing.StandardScaler().fit(X_train)\n",
    "X_train = scaler.transform(X_train)\n",
    "X_test = scaler.transform(X_test)\n",
    "#scale feature vars\n",
    "clf = SVC()\n",
    "#def svc model\n",
    "clf.set_params(kernel = 'linear').fit(X_train, y_train)\n",
    "y_pred = clf.predict(X_test)\n",
    "#set different parameters and refit\n",
    "clf.set_params(kernel = 'rbf', gamma = 'scale').fit(X_train, y_train)\n",
    "y_pred = clf.predict(X_test)\n",
    "#predict and score accuracy via confusion matrix\n",
    "confusion_matrix(y_pred,y_test)"
   ]
  },
  {
   "cell_type": "code",
   "execution_count": 59,
   "metadata": {},
   "outputs": [
    {
     "data": {
      "text/plain": [
       "array([[18,  0,  0],\n",
       "       [ 0, 11, 21],\n",
       "       [ 0,  0,  0]])"
      ]
     },
     "execution_count": 59,
     "metadata": {},
     "output_type": "execute_result"
    }
   ],
   "source": [
    "import numpy as np\n",
    "from sklearn import datasets,preprocessing\n",
    "from sklearn.model_selection import train_test_split\n",
    "from sklearn.svm import SVC\n",
    "from sklearn.metrics import confusion_matrix\n",
    "from sklearn.preprocessing import Normalizer\n",
    "iris = datasets.load_iris()\n",
    "#load iris dataset\n",
    "X, y = iris.data, iris.target\n",
    "#def target and feature vars\n",
    "X_train, X_test, y_train, y_test = train_test_split(X,y,test_size=0.33)\n",
    "#test and train vars\n",
    "scaler = Normalizer().fit(X_train)\n",
    "#scale feature vars\n",
    "X_train = scaler.transform(X_train)\n",
    "X_test = scaler.transform(X_test)\n",
    "#def svc model\n",
    "clf = SVC()\n",
    "clf.set_params(kernel = 'linear').fit(X_train, y_train)\n",
    "y_pred = clf.predict(X_test)\n",
    "#refit with different params\n",
    "#clf.set_params(kernel = 'rbf', gamma = 'scale').fit(X_train, y_train)\n",
    "#y_pred = clf.predict(X_test)\n",
    "#predict and score accuracy via confusion matrix\n",
    "confusion_matrix(y_pred,y_test)"
   ]
  },
  {
   "cell_type": "code",
   "execution_count": 53,
   "metadata": {},
   "outputs": [
    {
     "data": {
      "text/plain": [
       "array([[18,  0,  0],\n",
       "       [ 0, 12,  1],\n",
       "       [ 0,  0, 19]])"
      ]
     },
     "execution_count": 53,
     "metadata": {},
     "output_type": "execute_result"
    }
   ],
   "source": [
    "from sklearn import datasets,preprocessing\n",
    "from sklearn.model_selection import train_test_split\n",
    "from sklearn import neighbors\n",
    "from sklearn.metrics import confusion_matrix\n",
    "import numpy as np\n",
    "#load iris dataset\n",
    "iris = datasets.load_iris()\n",
    "#def target and feature vars\n",
    "X, y = iris.data, iris.target\n",
    "X_train, X_test, y_train, y_test = train_test_split(X,y,test_size=0.33)\n",
    "#test and train vars\n",
    "scaler = preprocessing.StandardScaler().fit(X_train)\n",
    "#scale feature vars\n",
    "X_train = scaler.transform(X_train)\n",
    "X_test = scaler.transform(X_test)\n",
    "#def kneighbors model\n",
    "knn = neighbors.KNeighborsClassifier(n_neighbors=5)\n",
    "knn.fit(X_train,y_train)\n",
    "y_pred = knn.predict(X_test)\n",
    "#fit, predict and score accuracy via confusion matrix\n",
    "confusion_matrix(y_pred,y_test)"
   ]
  },
  {
   "cell_type": "code",
   "execution_count": 46,
   "metadata": {},
   "outputs": [
    {
     "data": {
      "text/plain": [
       "0.98"
      ]
     },
     "execution_count": 46,
     "metadata": {},
     "output_type": "execute_result"
    }
   ],
   "source": [
    "from sklearn import datasets,preprocessing\n",
    "from sklearn.model_selection import train_test_split\n",
    "from sklearn import neighbors\n",
    "from sklearn.metrics import accuracy_score\n",
    "from sklearn.preprocessing import Normalizer\n",
    "import numpy as np\n",
    "#load iris dataset\n",
    "iris = datasets.load_iris()\n",
    "#def target and feature vars\n",
    "X, y = iris.data, iris.target\n",
    "#test and train vars\n",
    "X_train, X_test, y_train, y_test = train_test_split(X,y,test_size=0.33)\n",
    "scaler = Normalizer().fit(X_train)\n",
    "#scale feature vars\n",
    "X_train = scaler.transform(X_train)\n",
    "X_test = scaler.transform(X_test)\n",
    "#def kneighbors model\n",
    "knn = neighbors.KNeighborsClassifier(n_neighbors=5)\n",
    "knn.fit(X_train,y_train)\n",
    "y_pred = knn.predict(X_test)\n",
    "#fit, predict and score accuracy\n",
    "accuracy_score(y_pred,y_test)"
   ]
  },
  {
   "cell_type": "code",
   "execution_count": 94,
   "metadata": {},
   "outputs": [
    {
     "data": {
      "text/plain": [
       "0.9666666666666667"
      ]
     },
     "execution_count": 94,
     "metadata": {},
     "output_type": "execute_result"
    }
   ],
   "source": [
    "from sklearn import datasets,preprocessing\n",
    "from sklearn.model_selection import train_test_split,GridSearchCV\n",
    "from sklearn.svm import SVC\n",
    "from sklearn.metrics import confusion_matrix,accuracy_score\n",
    "from sklearn.preprocessing import Normalizer\n",
    "import numpy as np\n",
    "#load iris dataset\n",
    "iris = datasets.load_iris()\n",
    "#def target and feature vars\n",
    "X, y = iris.data, iris.target\n",
    "#test and train vars\n",
    "X_train, X_test, y_train, y_test = train_test_split(X,y,test_size=0.8)\n",
    "scaler = Normalizer().fit(X_train)\n",
    "#scale feature vars\n",
    "X_train = scaler.transform(X_train)\n",
    "X_test = scaler.transform(X_test)\n",
    "#def svc model and hyperparameters\n",
    "parameters = {'kernel':('linear', 'rbf'), 'C':[1, 10]}\n",
    "svc = SVC()\n",
    "clf = GridSearchCV(svc, parameters)\n",
    "#find optimal hyperparameters by gridsearch\n",
    "clf.fit(X_train,y_train)\n",
    "y_pred = clf.predict(X_test)\n",
    "#fit, predict and score accuracy\n",
    "confusion_matrix(y_pred,y_test)\n",
    "accuracy_score(y_pred,y_test)"
   ]
  },
  {
   "cell_type": "code",
   "execution_count": 104,
   "metadata": {},
   "outputs": [
    {
     "data": {
      "text/plain": [
       "0.95"
      ]
     },
     "execution_count": 104,
     "metadata": {},
     "output_type": "execute_result"
    }
   ],
   "source": [
    "\n",
    "from sklearn import datasets,preprocessing\n",
    "from sklearn.model_selection import train_test_split,RandomizedSearchCV\n",
    "from sklearn.svm import SVC\n",
    "from sklearn.metrics import confusion_matrix,accuracy_score\n",
    "from sklearn.preprocessing import Normalizer\n",
    "import numpy as np\n",
    "#load iris dataset\n",
    "iris = datasets.load_iris()\n",
    "#def target and feature vars\n",
    "X, y = iris.data, iris.target\n",
    "#test and train vars\n",
    "X_train, X_test, y_train, y_test = train_test_split(X,y,test_size=0.8)\n",
    "scaler = Normalizer().fit(X_train)\n",
    "#scale feature vars\n",
    "X_train = scaler.transform(X_train)\n",
    "X_test = scaler.transform(X_test)\n",
    "#def svc model and parameters\n",
    "parameters = {'kernel':('linear', 'rbf'), 'C':[1, 10]}\n",
    "svc = SVC()\n",
    "#find optimal parameters via randomized search\n",
    "clf = RandomizedSearchCV(svc, parameters,n_iter=4)\n",
    "clf.fit(X_train,y_train)\n",
    "y_pred = clf.predict(X_test)\n",
    "#fit, predict and score accuracy\n",
    "confusion_matrix(y_pred,y_test)\n",
    "accuracy_score(y_pred,y_test)\n"
   ]
  },
  {
   "cell_type": "code",
   "execution_count": 109,
   "metadata": {},
   "outputs": [
    {
     "data": {
      "text/plain": [
       "0.92"
      ]
     },
     "execution_count": 109,
     "metadata": {},
     "output_type": "execute_result"
    }
   ],
   "source": [
    "from sklearn import datasets,preprocessing\n",
    "from sklearn.model_selection import train_test_split,GridSearchCV\n",
    "from sklearn.metrics import confusion_matrix,accuracy_score\n",
    "from sklearn import neighbors\n",
    "import numpy as np\n",
    "#load iris dataset\n",
    "iris = datasets.load_iris()\n",
    "#def target and feature vars\n",
    "X, y = iris.data, iris.target\n",
    "#test and train vars\n",
    "X_train, X_test, y_train, y_test = train_test_split(X,y,test_size=0.33)\n",
    "scaler = preprocessing.StandardScaler().fit(X_train)\n",
    "#scale feature vars\n",
    "X_train = scaler.transform(X_train)\n",
    "X_test = scaler.transform(X_test)\n",
    "#def kn model and parameters\n",
    "knn = neighbors.KNeighborsClassifier()\n",
    "params = {'n_neighbors':np.arange(1,3),'metric':['euclidean','cityblock']}\n",
    "#define hyperparameter format and find optimal values via gridsearch\n",
    "kngs = GridSearchCV(knn,params)\n",
    "kngs.fit(X_train,y_train)\n",
    "y_pred = kngs.predict(X_test)\n",
    "#fit, predict and score accuracy\n",
    "confusion_matrix(y_pred,y_test)\n",
    "accuracy_score(y_pred,y_test)"
   ]
  },
  {
   "cell_type": "code",
   "execution_count": 115,
   "metadata": {},
   "outputs": [
    {
     "data": {
      "text/plain": [
       "{'cv': None,\n",
       " 'error_score': nan,\n",
       " 'estimator__algorithm': 'auto',\n",
       " 'estimator__leaf_size': 30,\n",
       " 'estimator__metric': 'minkowski',\n",
       " 'estimator__metric_params': None,\n",
       " 'estimator__n_jobs': None,\n",
       " 'estimator__n_neighbors': 5,\n",
       " 'estimator__p': 2,\n",
       " 'estimator__weights': 'uniform',\n",
       " 'estimator': KNeighborsClassifier(),\n",
       " 'n_jobs': None,\n",
       " 'param_grid': {'n_neighbors': array([1, 2]),\n",
       "  'metric': ['euclidean', 'cityblock']},\n",
       " 'pre_dispatch': '2*n_jobs',\n",
       " 'refit': True,\n",
       " 'return_train_score': False,\n",
       " 'scoring': None,\n",
       " 'verbose': 0}"
      ]
     },
     "execution_count": 115,
     "metadata": {},
     "output_type": "execute_result"
    }
   ],
   "source": [
    "from sklearn import datasets,preprocessing\n",
    "from sklearn.model_selection import train_test_split,RandomizedSearchCV\n",
    "from sklearn.metrics import confusion_matrix,accuracy_score\n",
    "from sklearn import neighbors\n",
    "import numpy as np\n",
    "#load iris dataset\n",
    "iris = datasets.load_iris()\n",
    "#def target and feature vars\n",
    "X, y = iris.data, iris.target\n",
    "#test and train vars\n",
    "X_train, X_test, y_train, y_test = train_test_split(X,y,test_size=0.33)\n",
    "scaler = preprocessing.StandardScaler().fit(X_train)\n",
    "#scale feature vars\n",
    "X_train = scaler.transform(X_train)\n",
    "X_test = scaler.transform(X_test)\n",
    "#def kn model and parameters\n",
    "knn = neighbors.KNeighborsClassifier()\n",
    "params = {'n_neighbors':np.arange(1,3),'metric':['euclidean','cityblock']}\n",
    "#define hyperparameters and find optimal values via gridsearch\n",
    "kngs = GridSearchCV(knn,params)\n",
    "kngs.fit(X_train,y_train)\n",
    "y_pred = kngs.predict(X_test)\n",
    "#fit, predict and score accuracy\n",
    "confusion_matrix(y_pred,y_test)\n",
    "accuracy_score(y_pred,y_test)\n",
    "#get gridsearch hyperparameters\n",
    "kngs.get_params()"
   ]
  }
 ],
 "metadata": {
  "interpreter": {
   "hash": "916dbcbb3f70747c44a77c7bcd40155683ae19c65e1c03b4aa3499c5328201f1"
  },
  "kernelspec": {
   "display_name": "Python 3.9.7 64-bit",
   "language": "python",
   "name": "python3"
  },
  "language_info": {
   "codemirror_mode": {
    "name": "ipython",
    "version": 3
   },
   "file_extension": ".py",
   "mimetype": "text/x-python",
   "name": "python",
   "nbconvert_exporter": "python",
   "pygments_lexer": "ipython3",
   "version": "3.9.7"
  },
  "orig_nbformat": 4
 },
 "nbformat": 4,
 "nbformat_minor": 2
}
