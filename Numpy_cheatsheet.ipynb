{
 "cells": [
  {
   "cell_type": "code",
   "execution_count": 797,
   "metadata": {},
   "outputs": [],
   "source": [
    "import numpy as np\n"
   ]
  },
  {
   "cell_type": "code",
   "execution_count": 798,
   "metadata": {},
   "outputs": [
    {
     "data": {
      "text/plain": [
       "array([[[1.5, 2. , 3. ],\n",
       "        [4. , 5. , 6. ]],\n",
       "\n",
       "       [[3. , 2. , 1. ],\n",
       "        [4. , 5. , 6. ]]])"
      ]
     },
     "execution_count": 798,
     "metadata": {},
     "output_type": "execute_result"
    }
   ],
   "source": [
    "a = np.array([1,2,3])\n",
    "b = np.array([(1.5,2,3),(4,5,6)], dtype=float)\n",
    "c = np.array([[(1.5,2,3),(4,5,6)],[(3,2,1),(4,5,6)]],dtype=float)\n",
    "c"
   ]
  },
  {
   "cell_type": "code",
   "execution_count": 799,
   "metadata": {},
   "outputs": [
    {
     "data": {
      "text/plain": [
       "array([[0., 0., 0., 0.],\n",
       "       [0., 0., 0., 0.],\n",
       "       [0., 0., 0., 0.]])"
      ]
     },
     "execution_count": 799,
     "metadata": {},
     "output_type": "execute_result"
    }
   ],
   "source": [
    "np.zeros((3,4))"
   ]
  },
  {
   "cell_type": "code",
   "execution_count": 800,
   "metadata": {},
   "outputs": [
    {
     "data": {
      "text/plain": [
       "array([[[1, 1, 1, 1],\n",
       "        [1, 1, 1, 1],\n",
       "        [1, 1, 1, 1]],\n",
       "\n",
       "       [[1, 1, 1, 1],\n",
       "        [1, 1, 1, 1],\n",
       "        [1, 1, 1, 1]]], dtype=int16)"
      ]
     },
     "execution_count": 800,
     "metadata": {},
     "output_type": "execute_result"
    }
   ],
   "source": [
    "np.ones((2,3,4),dtype=np.int16)"
   ]
  },
  {
   "cell_type": "code",
   "execution_count": 801,
   "metadata": {},
   "outputs": [
    {
     "data": {
      "text/plain": [
       "array([10, 15, 20])"
      ]
     },
     "execution_count": 801,
     "metadata": {},
     "output_type": "execute_result"
    }
   ],
   "source": [
    "d = np.arange(10,25,5)\n",
    "d"
   ]
  },
  {
   "cell_type": "code",
   "execution_count": 802,
   "metadata": {},
   "outputs": [
    {
     "data": {
      "text/plain": [
       "array([0.  , 0.25, 0.5 , 0.75, 1.  , 1.25, 1.5 , 1.75, 2.  ])"
      ]
     },
     "execution_count": 802,
     "metadata": {},
     "output_type": "execute_result"
    }
   ],
   "source": [
    "np.linspace(0,2,9)"
   ]
  },
  {
   "cell_type": "code",
   "execution_count": 803,
   "metadata": {},
   "outputs": [
    {
     "data": {
      "text/plain": [
       "array([[7, 7],\n",
       "       [7, 7]])"
      ]
     },
     "execution_count": 803,
     "metadata": {},
     "output_type": "execute_result"
    }
   ],
   "source": [
    "e = np.full((2,2),7)\n",
    "e"
   ]
  },
  {
   "cell_type": "code",
   "execution_count": 878,
   "metadata": {},
   "outputs": [
    {
     "data": {
      "text/plain": [
       "array([[1., 0.],\n",
       "       [0., 1.]])"
      ]
     },
     "execution_count": 878,
     "metadata": {},
     "output_type": "execute_result"
    }
   ],
   "source": [
    "f = np.eye(2)\n",
    "f"
   ]
  },
  {
   "cell_type": "code",
   "execution_count": 805,
   "metadata": {},
   "outputs": [
    {
     "data": {
      "text/plain": [
       "array([[0.65643603, 0.3082942 ],\n",
       "       [0.9658099 , 0.81392412]])"
      ]
     },
     "execution_count": 805,
     "metadata": {},
     "output_type": "execute_result"
    }
   ],
   "source": [
    "np.random.random((2,2))"
   ]
  },
  {
   "cell_type": "code",
   "execution_count": 806,
   "metadata": {},
   "outputs": [
    {
     "data": {
      "text/plain": [
       "array([[1.5, 2. ],\n",
       "       [3. , 4. ],\n",
       "       [5. , 6. ]])"
      ]
     },
     "execution_count": 806,
     "metadata": {},
     "output_type": "execute_result"
    }
   ],
   "source": [
    "np.empty((3,2))"
   ]
  },
  {
   "cell_type": "code",
   "execution_count": 807,
   "metadata": {},
   "outputs": [],
   "source": [
    "#np.save('my_array',a)\n",
    "#np.savez('array.npz',a,b)\n",
    "#np.load('my_array.npy')"
   ]
  },
  {
   "cell_type": "code",
   "execution_count": 808,
   "metadata": {},
   "outputs": [],
   "source": [
    "#np.loadtxt('myfile.txt')\n",
    "#np.genfromtxt('my_file.csv',delimiter=',')\n",
    "#np.savetxt('myarray.txt',a,delimiter=\" \")"
   ]
  },
  {
   "cell_type": "code",
   "execution_count": 809,
   "metadata": {},
   "outputs": [
    {
     "name": "stdout",
     "output_type": "stream",
     "text": [
      " ndarray()\n",
      "\n",
      "ndarray(shape, dtype=float, buffer=None, offset=0,\n",
      "        strides=None, order=None)\n",
      "\n",
      "An array object represents a multidimensional, homogeneous array\n",
      "of fixed-size items.  An associated data-type object describes the\n",
      "format of each element in the array (its byte-order, how many bytes it\n",
      "occupies in memory, whether it is an integer, a floating point number,\n",
      "or something else, etc.)\n",
      "\n",
      "Arrays should be constructed using `array`, `zeros` or `empty` (refer\n",
      "to the See Also section below).  The parameters given here refer to\n",
      "a low-level method (`ndarray(...)`) for instantiating an array.\n",
      "\n",
      "For more information, refer to the `numpy` module and examine the\n",
      "methods and attributes of an array.\n",
      "\n",
      "Parameters\n",
      "----------\n",
      "(for the __new__ method; see Notes below)\n",
      "\n",
      "shape : tuple of ints\n",
      "    Shape of created array.\n",
      "dtype : data-type, optional\n",
      "    Any object that can be interpreted as a numpy data type.\n",
      "buffer : object exposing buffer interface, optional\n",
      "    Used to fill the array with data.\n",
      "offset : int, optional\n",
      "    Offset of array data in buffer.\n",
      "strides : tuple of ints, optional\n",
      "    Strides of data in memory.\n",
      "order : {'C', 'F'}, optional\n",
      "    Row-major (C-style) or column-major (Fortran-style) order.\n",
      "\n",
      "Attributes\n",
      "----------\n",
      "T : ndarray\n",
      "    Transpose of the array.\n",
      "data : buffer\n",
      "    The array's elements, in memory.\n",
      "dtype : dtype object\n",
      "    Describes the format of the elements in the array.\n",
      "flags : dict\n",
      "    Dictionary containing information related to memory use, e.g.,\n",
      "    'C_CONTIGUOUS', 'OWNDATA', 'WRITEABLE', etc.\n",
      "flat : numpy.flatiter object\n",
      "    Flattened version of the array as an iterator.  The iterator\n",
      "    allows assignments, e.g., ``x.flat = 3`` (See `ndarray.flat` for\n",
      "    assignment examples; TODO).\n",
      "imag : ndarray\n",
      "    Imaginary part of the array.\n",
      "real : ndarray\n",
      "    Real part of the array.\n",
      "size : int\n",
      "    Number of elements in the array.\n",
      "itemsize : int\n",
      "    The memory use of each array element in bytes.\n",
      "nbytes : int\n",
      "    The total number of bytes required to store the array data,\n",
      "    i.e., ``itemsize * size``.\n",
      "ndim : int\n",
      "    The array's number of dimensions.\n",
      "shape : tuple of ints\n",
      "    Shape of the array.\n",
      "strides : tuple of ints\n",
      "    The step-size required to move from one element to the next in\n",
      "    memory. For example, a contiguous ``(3, 4)`` array of type\n",
      "    ``int16`` in C-order has strides ``(8, 2)``.  This implies that\n",
      "    to move from element to element in memory requires jumps of 2 bytes.\n",
      "    To move from row-to-row, one needs to jump 8 bytes at a time\n",
      "    (``2 * 4``).\n",
      "ctypes : ctypes object\n",
      "    Class containing properties of the array needed for interaction\n",
      "    with ctypes.\n",
      "base : ndarray\n",
      "    If the array is a view into another array, that array is its `base`\n",
      "    (unless that array is also a view).  The `base` array is where the\n",
      "    array data is actually stored.\n",
      "\n",
      "See Also\n",
      "--------\n",
      "array : Construct an array.\n",
      "zeros : Create an array, each element of which is zero.\n",
      "empty : Create an array, but leave its allocated memory unchanged (i.e.,\n",
      "        it contains \"garbage\").\n",
      "dtype : Create a data-type.\n",
      "numpy.typing.NDArray : An ndarray alias :term:`generic <generic type>`\n",
      "                       w.r.t. its `dtype.type <numpy.dtype.type>`.\n",
      "\n",
      "Notes\n",
      "-----\n",
      "There are two modes of creating an array using ``__new__``:\n",
      "\n",
      "1. If `buffer` is None, then only `shape`, `dtype`, and `order`\n",
      "   are used.\n",
      "2. If `buffer` is an object exposing the buffer interface, then\n",
      "   all keywords are interpreted.\n",
      "\n",
      "No ``__init__`` method is needed because the array is fully initialized\n",
      "after the ``__new__`` method.\n",
      "\n",
      "Examples\n",
      "--------\n",
      "These examples illustrate the low-level `ndarray` constructor.  Refer\n",
      "to the `See Also` section above for easier ways of constructing an\n",
      "ndarray.\n",
      "\n",
      "First mode, `buffer` is None:\n",
      "\n",
      ">>> np.ndarray(shape=(2,2), dtype=float, order='F')\n",
      "array([[0.0e+000, 0.0e+000], # random\n",
      "       [     nan, 2.5e-323]])\n",
      "\n",
      "Second mode:\n",
      "\n",
      ">>> np.ndarray((2,), buffer=np.array([1,2,3]),\n",
      "...            offset=np.int_().itemsize,\n",
      "...            dtype=int) # offset = 1*itemsize, i.e. skip first element\n",
      "array([2, 3])\n",
      "\n",
      "\n",
      "Methods:\n",
      "\n",
      "  all  --  a.all(axis=None, out=None, keepdims=False, *, where=True)\n",
      "  any  --  a.any(axis=None, out=None, keepdims=False, *, where=True)\n",
      "  argmax  --  a.argmax(axis=None, out=None)\n",
      "  argmin  --  a.argmin(axis=None, out=None)\n",
      "  argpartition  --  a.argpartition(kth, axis=-1, kind='introselect', order=None)\n",
      "  argsort  --  a.argsort(axis=-1, kind=None, order=None)\n",
      "  astype  --  a.astype(dtype, order='K', casting='unsafe', subok=True, copy=True)\n",
      "  byteswap  --  a.byteswap(inplace=False)\n",
      "  choose  --  a.choose(choices, out=None, mode='raise')\n",
      "  clip  --  a.clip(min=None, max=None, out=None, **kwargs)\n",
      "  compress  --  a.compress(condition, axis=None, out=None)\n",
      "  conj  --  a.conj()\n",
      "  conjugate  --  a.conjugate()\n",
      "  copy  --  a.copy(order='C')\n",
      "  cumprod  --  a.cumprod(axis=None, dtype=None, out=None)\n",
      "  cumsum  --  a.cumsum(axis=None, dtype=None, out=None)\n",
      "  diagonal  --  a.diagonal(offset=0, axis1=0, axis2=1)\n",
      "  dot  --  None\n",
      "  dump  --  a.dump(file)\n",
      "  dumps  --  a.dumps()\n",
      "  fill  --  a.fill(value)\n",
      "  flatten  --  a.flatten(order='C')\n",
      "  getfield  --  a.getfield(dtype, offset=0)\n",
      "  item  --  a.item(*args)\n",
      "  itemset  --  a.itemset(*args)\n",
      "  max  --  a.max(axis=None, out=None, keepdims=False, initial=<no value>, where=True)\n",
      "  mean  --  a.mean(axis=None, dtype=None, out=None, keepdims=False, *, where=True)\n",
      "  min  --  a.min(axis=None, out=None, keepdims=False, initial=<no value>, where=True)\n",
      "  newbyteorder  --  arr.newbyteorder(new_order='S', /)\n",
      "  nonzero  --  a.nonzero()\n",
      "  partition  --  a.partition(kth, axis=-1, kind='introselect', order=None)\n",
      "  prod  --  a.prod(axis=None, dtype=None, out=None, keepdims=False, initial=1, where=True)\n",
      "  ptp  --  a.ptp(axis=None, out=None, keepdims=False)\n",
      "  put  --  a.put(indices, values, mode='raise')\n",
      "  ravel  --  a.ravel([order])\n",
      "  repeat  --  a.repeat(repeats, axis=None)\n",
      "  reshape  --  a.reshape(shape, order='C')\n",
      "  resize  --  a.resize(new_shape, refcheck=True)\n",
      "  round  --  a.round(decimals=0, out=None)\n",
      "  searchsorted  --  a.searchsorted(v, side='left', sorter=None)\n",
      "  setfield  --  a.setfield(val, dtype, offset=0)\n",
      "  setflags  --  a.setflags(write=None, align=None, uic=None)\n",
      "  sort  --  a.sort(axis=-1, kind=None, order=None)\n",
      "  squeeze  --  a.squeeze(axis=None)\n",
      "  std  --  a.std(axis=None, dtype=None, out=None, ddof=0, keepdims=False, *, where=True)\n",
      "  sum  --  a.sum(axis=None, dtype=None, out=None, keepdims=False, initial=0, where=True)\n",
      "  swapaxes  --  a.swapaxes(axis1, axis2)\n",
      "  take  --  a.take(indices, axis=None, out=None, mode='raise')\n",
      "  tobytes  --  a.tobytes(order='C')\n",
      "  tofile  --  a.tofile(fid, sep=\"\", format=\"%s\")\n",
      "  tolist  --  a.tolist()\n",
      "  tostring  --  a.tostring(order='C')\n",
      "  trace  --  a.trace(offset=0, axis1=0, axis2=1, dtype=None, out=None)\n",
      "  transpose  --  a.transpose(*axes)\n",
      "  var  --  a.var(axis=None, dtype=None, out=None, ddof=0, keepdims=False, *, where=True)\n",
      "  view  --  a.view([dtype][, type])\n"
     ]
    }
   ],
   "source": [
    "np.info(np.ndarray)"
   ]
  },
  {
   "cell_type": "code",
   "execution_count": 810,
   "metadata": {},
   "outputs": [
    {
     "data": {
      "text/plain": [
       "(3,)"
      ]
     },
     "execution_count": 810,
     "metadata": {},
     "output_type": "execute_result"
    }
   ],
   "source": [
    "a.shape"
   ]
  },
  {
   "cell_type": "code",
   "execution_count": 811,
   "metadata": {},
   "outputs": [
    {
     "data": {
      "text/plain": [
       "3"
      ]
     },
     "execution_count": 811,
     "metadata": {},
     "output_type": "execute_result"
    }
   ],
   "source": [
    "len(a)"
   ]
  },
  {
   "cell_type": "code",
   "execution_count": 796,
   "metadata": {},
   "outputs": [
    {
     "data": {
      "text/plain": [
       "2"
      ]
     },
     "execution_count": 796,
     "metadata": {},
     "output_type": "execute_result"
    }
   ],
   "source": [
    "b.ndim"
   ]
  },
  {
   "cell_type": "code",
   "execution_count": 812,
   "metadata": {},
   "outputs": [
    {
     "data": {
      "text/plain": [
       "4"
      ]
     },
     "execution_count": 812,
     "metadata": {},
     "output_type": "execute_result"
    }
   ],
   "source": [
    "e.size"
   ]
  },
  {
   "cell_type": "code",
   "execution_count": 813,
   "metadata": {},
   "outputs": [
    {
     "data": {
      "text/plain": [
       "dtype('float64')"
      ]
     },
     "execution_count": 813,
     "metadata": {},
     "output_type": "execute_result"
    }
   ],
   "source": [
    "b.dtype"
   ]
  },
  {
   "cell_type": "code",
   "execution_count": 814,
   "metadata": {},
   "outputs": [
    {
     "data": {
      "text/plain": [
       "'float64'"
      ]
     },
     "execution_count": 814,
     "metadata": {},
     "output_type": "execute_result"
    }
   ],
   "source": [
    "b.dtype.name"
   ]
  },
  {
   "cell_type": "code",
   "execution_count": 867,
   "metadata": {},
   "outputs": [
    {
     "data": {
      "text/plain": [
       "array([[1, 2, 3],\n",
       "       [4, 5, 6]])"
      ]
     },
     "execution_count": 867,
     "metadata": {},
     "output_type": "execute_result"
    }
   ],
   "source": [
    "b.astype(int)"
   ]
  },
  {
   "cell_type": "code",
   "execution_count": 816,
   "metadata": {},
   "outputs": [],
   "source": [
    "#np.int64\n",
    "#np.float32\n",
    "#complex\n",
    "#bool\n",
    "#object\n",
    "#np.string_\n",
    "#np.unicode_"
   ]
  },
  {
   "cell_type": "code",
   "execution_count": 868,
   "metadata": {},
   "outputs": [
    {
     "data": {
      "text/plain": [
       "array([[  4.48168907,   7.3890561 ,  20.08553692],\n",
       "       [ 54.59815003, 148.4131591 , 403.42879349]])"
      ]
     },
     "execution_count": 868,
     "metadata": {},
     "output_type": "execute_result"
    }
   ],
   "source": [
    "np.exp(b)"
   ]
  },
  {
   "cell_type": "code",
   "execution_count": 871,
   "metadata": {},
   "outputs": [
    {
     "data": {
      "text/plain": [
       "array([[-0.5,  0. ,  0. ],\n",
       "       [-3. , -3. , -3. ]])"
      ]
     },
     "execution_count": 871,
     "metadata": {},
     "output_type": "execute_result"
    }
   ],
   "source": [
    "g = a - b\n",
    "g\n",
    "np.subtract(a,b)"
   ]
  },
  {
   "cell_type": "code",
   "execution_count": 872,
   "metadata": {},
   "outputs": [
    {
     "data": {
      "text/plain": [
       "array([[2.5, 4. , 6. ],\n",
       "       [5. , 7. , 9. ]])"
      ]
     },
     "execution_count": 872,
     "metadata": {},
     "output_type": "execute_result"
    }
   ],
   "source": [
    "#b + a\n",
    "np.add(b,a)"
   ]
  },
  {
   "cell_type": "code",
   "execution_count": 873,
   "metadata": {},
   "outputs": [
    {
     "data": {
      "text/plain": [
       "array([[0.66666667, 1.        , 1.        ],\n",
       "       [0.25      , 0.4       , 0.5       ]])"
      ]
     },
     "execution_count": 873,
     "metadata": {},
     "output_type": "execute_result"
    }
   ],
   "source": [
    "#a / b\n",
    "np.divide(a,b)"
   ]
  },
  {
   "cell_type": "code",
   "execution_count": 874,
   "metadata": {},
   "outputs": [
    {
     "data": {
      "text/plain": [
       "array([[ 1.5,  4. ,  9. ],\n",
       "       [ 4. , 10. , 18. ]])"
      ]
     },
     "execution_count": 874,
     "metadata": {},
     "output_type": "execute_result"
    }
   ],
   "source": [
    "#a * b\n",
    "np.multiply(a,b)"
   ]
  },
  {
   "cell_type": "code",
   "execution_count": 875,
   "metadata": {},
   "outputs": [
    {
     "data": {
      "text/plain": [
       "array([[1.22474487, 1.41421356, 1.73205081],\n",
       "       [2.        , 2.23606798, 2.44948974]])"
      ]
     },
     "execution_count": 875,
     "metadata": {},
     "output_type": "execute_result"
    }
   ],
   "source": [
    "np.sqrt(b)\n"
   ]
  },
  {
   "cell_type": "code",
   "execution_count": 823,
   "metadata": {},
   "outputs": [
    {
     "data": {
      "text/plain": [
       "array([0.84147098, 0.90929743, 0.14112001])"
      ]
     },
     "execution_count": 823,
     "metadata": {},
     "output_type": "execute_result"
    }
   ],
   "source": [
    "np.sin(a)\n"
   ]
  },
  {
   "cell_type": "code",
   "execution_count": 876,
   "metadata": {},
   "outputs": [
    {
     "data": {
      "text/plain": [
       "array([[ 0.0707372 , -0.41614684, -0.9899925 ],\n",
       "       [-0.65364362,  0.28366219,  0.96017029]])"
      ]
     },
     "execution_count": 876,
     "metadata": {},
     "output_type": "execute_result"
    }
   ],
   "source": [
    "np.cos(b)\n"
   ]
  },
  {
   "cell_type": "code",
   "execution_count": 825,
   "metadata": {},
   "outputs": [
    {
     "data": {
      "text/plain": [
       "array([0.        , 0.69314718, 1.09861229])"
      ]
     },
     "execution_count": 825,
     "metadata": {},
     "output_type": "execute_result"
    }
   ],
   "source": [
    "np.log(a)\n"
   ]
  },
  {
   "cell_type": "code",
   "execution_count": 879,
   "metadata": {},
   "outputs": [
    {
     "data": {
      "text/plain": [
       "array([[7., 7.],\n",
       "       [7., 7.]])"
      ]
     },
     "execution_count": 879,
     "metadata": {},
     "output_type": "execute_result"
    }
   ],
   "source": [
    "e.dot(f)"
   ]
  },
  {
   "cell_type": "code",
   "execution_count": 827,
   "metadata": {},
   "outputs": [
    {
     "data": {
      "text/plain": [
       "False"
      ]
     },
     "execution_count": 827,
     "metadata": {},
     "output_type": "execute_result"
    }
   ],
   "source": [
    "\n",
    "np.array_equal(a,b)"
   ]
  },
  {
   "cell_type": "code",
   "execution_count": 880,
   "metadata": {},
   "outputs": [
    {
     "data": {
      "text/plain": [
       "6"
      ]
     },
     "execution_count": 880,
     "metadata": {},
     "output_type": "execute_result"
    }
   ],
   "source": [
    "a.sum()\n"
   ]
  },
  {
   "cell_type": "code",
   "execution_count": 881,
   "metadata": {},
   "outputs": [
    {
     "data": {
      "text/plain": [
       "1"
      ]
     },
     "execution_count": 881,
     "metadata": {},
     "output_type": "execute_result"
    }
   ],
   "source": [
    "a.min()\n"
   ]
  },
  {
   "cell_type": "code",
   "execution_count": 882,
   "metadata": {},
   "outputs": [
    {
     "data": {
      "text/plain": [
       "array([4., 5., 6.])"
      ]
     },
     "execution_count": 882,
     "metadata": {},
     "output_type": "execute_result"
    }
   ],
   "source": [
    "b.max(axis=0)\n"
   ]
  },
  {
   "cell_type": "code",
   "execution_count": 831,
   "metadata": {},
   "outputs": [
    {
     "data": {
      "text/plain": [
       "array([[1.5, 2. , 3. ],\n",
       "       [5.5, 7. , 9. ]])"
      ]
     },
     "execution_count": 831,
     "metadata": {},
     "output_type": "execute_result"
    }
   ],
   "source": [
    "b.cumsum(axis=0)\n"
   ]
  },
  {
   "cell_type": "code",
   "execution_count": 832,
   "metadata": {},
   "outputs": [
    {
     "data": {
      "text/plain": [
       "2.0"
      ]
     },
     "execution_count": 832,
     "metadata": {},
     "output_type": "execute_result"
    }
   ],
   "source": [
    "a.mean()\n"
   ]
  },
  {
   "cell_type": "code",
   "execution_count": 833,
   "metadata": {},
   "outputs": [
    {
     "data": {
      "text/plain": [
       "3.5"
      ]
     },
     "execution_count": 833,
     "metadata": {},
     "output_type": "execute_result"
    }
   ],
   "source": [
    "np.median(b)\n"
   ]
  },
  {
   "cell_type": "code",
   "execution_count": 834,
   "metadata": {},
   "outputs": [
    {
     "data": {
      "text/plain": [
       "1.0"
      ]
     },
     "execution_count": 834,
     "metadata": {},
     "output_type": "execute_result"
    }
   ],
   "source": [
    "np.corrcoef(a)\n"
   ]
  },
  {
   "cell_type": "code",
   "execution_count": 883,
   "metadata": {},
   "outputs": [
    {
     "data": {
      "text/plain": [
       "1.5920810978785667"
      ]
     },
     "execution_count": 883,
     "metadata": {},
     "output_type": "execute_result"
    }
   ],
   "source": [
    "np.std(b)"
   ]
  },
  {
   "cell_type": "code",
   "execution_count": 884,
   "metadata": {},
   "outputs": [],
   "source": [
    "h = a.view()\n"
   ]
  },
  {
   "cell_type": "code",
   "execution_count": 885,
   "metadata": {},
   "outputs": [
    {
     "data": {
      "text/plain": [
       "array([1, 2, 3])"
      ]
     },
     "execution_count": 885,
     "metadata": {},
     "output_type": "execute_result"
    }
   ],
   "source": [
    "np.copy(a)\n"
   ]
  },
  {
   "cell_type": "code",
   "execution_count": 887,
   "metadata": {},
   "outputs": [
    {
     "data": {
      "text/plain": [
       "array([1, 2, 3])"
      ]
     },
     "execution_count": 887,
     "metadata": {},
     "output_type": "execute_result"
    }
   ],
   "source": [
    "h = a.copy()\n",
    "h"
   ]
  },
  {
   "cell_type": "code",
   "execution_count": 888,
   "metadata": {},
   "outputs": [],
   "source": [
    "a.sort()"
   ]
  },
  {
   "cell_type": "code",
   "execution_count": 889,
   "metadata": {},
   "outputs": [
    {
     "data": {
      "text/plain": [
       "array([[[1.5, 2. , 1. ],\n",
       "        [4. , 5. , 6. ]],\n",
       "\n",
       "       [[3. , 2. , 3. ],\n",
       "        [4. , 5. , 6. ]]])"
      ]
     },
     "execution_count": 889,
     "metadata": {},
     "output_type": "execute_result"
    }
   ],
   "source": [
    "c.sort(axis=0)\n",
    "c"
   ]
  },
  {
   "cell_type": "code",
   "execution_count": 890,
   "metadata": {},
   "outputs": [
    {
     "data": {
      "text/plain": [
       "3"
      ]
     },
     "execution_count": 890,
     "metadata": {},
     "output_type": "execute_result"
    }
   ],
   "source": [
    "a[2]"
   ]
  },
  {
   "cell_type": "code",
   "execution_count": 891,
   "metadata": {},
   "outputs": [
    {
     "data": {
      "text/plain": [
       "array([[1.5, 2. , 3. ],\n",
       "       [4. , 5. , 6. ]])"
      ]
     },
     "execution_count": 891,
     "metadata": {},
     "output_type": "execute_result"
    }
   ],
   "source": [
    "b"
   ]
  },
  {
   "cell_type": "code",
   "execution_count": 892,
   "metadata": {},
   "outputs": [
    {
     "data": {
      "text/plain": [
       "6.0"
      ]
     },
     "execution_count": 892,
     "metadata": {},
     "output_type": "execute_result"
    }
   ],
   "source": [
    "b[1,2]"
   ]
  },
  {
   "cell_type": "code",
   "execution_count": 893,
   "metadata": {},
   "outputs": [
    {
     "data": {
      "text/plain": [
       "array([1, 2, 3])"
      ]
     },
     "execution_count": 893,
     "metadata": {},
     "output_type": "execute_result"
    }
   ],
   "source": [
    "a[0:3]\n"
   ]
  },
  {
   "cell_type": "code",
   "execution_count": 894,
   "metadata": {},
   "outputs": [
    {
     "data": {
      "text/plain": [
       "array([2., 5.])"
      ]
     },
     "execution_count": 894,
     "metadata": {},
     "output_type": "execute_result"
    }
   ],
   "source": [
    "b[0:2,1]\n"
   ]
  },
  {
   "cell_type": "code",
   "execution_count": 895,
   "metadata": {},
   "outputs": [
    {
     "data": {
      "text/plain": [
       "array([[1.5, 2. , 3. ]])"
      ]
     },
     "execution_count": 895,
     "metadata": {},
     "output_type": "execute_result"
    }
   ],
   "source": [
    "b[:1]\n"
   ]
  },
  {
   "cell_type": "code",
   "execution_count": 896,
   "metadata": {},
   "outputs": [
    {
     "data": {
      "text/plain": [
       "array([[[1.5, 2. , 1. ],\n",
       "        [4. , 5. , 6. ]],\n",
       "\n",
       "       [[3. , 2. , 3. ],\n",
       "        [4. , 5. , 6. ]]])"
      ]
     },
     "execution_count": 896,
     "metadata": {},
     "output_type": "execute_result"
    }
   ],
   "source": [
    "c"
   ]
  },
  {
   "cell_type": "code",
   "execution_count": 898,
   "metadata": {},
   "outputs": [
    {
     "data": {
      "text/plain": [
       "array([3., 2., 3.])"
      ]
     },
     "execution_count": 898,
     "metadata": {},
     "output_type": "execute_result"
    }
   ],
   "source": [
    "c[1,0,...]\n"
   ]
  },
  {
   "cell_type": "code",
   "execution_count": 847,
   "metadata": {},
   "outputs": [
    {
     "data": {
      "text/plain": [
       "array([3, 2, 1])"
      ]
     },
     "execution_count": 847,
     "metadata": {},
     "output_type": "execute_result"
    }
   ],
   "source": [
    "a[::-1]\n"
   ]
  },
  {
   "cell_type": "code",
   "execution_count": 848,
   "metadata": {},
   "outputs": [
    {
     "data": {
      "text/plain": [
       "array([1])"
      ]
     },
     "execution_count": 848,
     "metadata": {},
     "output_type": "execute_result"
    }
   ],
   "source": [
    "a[a<2]\n"
   ]
  },
  {
   "cell_type": "code",
   "execution_count": 901,
   "metadata": {},
   "outputs": [
    {
     "data": {
      "text/plain": [
       "array([[1.5, 2. , 3. ],\n",
       "       [4. , 5. , 6. ]])"
      ]
     },
     "execution_count": 901,
     "metadata": {},
     "output_type": "execute_result"
    }
   ],
   "source": [
    "b"
   ]
  },
  {
   "cell_type": "code",
   "execution_count": 899,
   "metadata": {},
   "outputs": [
    {
     "data": {
      "text/plain": [
       "array([4. , 2. , 6. , 1.5])"
      ]
     },
     "execution_count": 899,
     "metadata": {},
     "output_type": "execute_result"
    }
   ],
   "source": [
    "b[[1,0,1,0],[0,1,2,0]]\n"
   ]
  },
  {
   "cell_type": "code",
   "execution_count": 900,
   "metadata": {},
   "outputs": [
    {
     "data": {
      "text/plain": [
       "array([[4. , 5. , 6. , 4. ],\n",
       "       [1.5, 2. , 3. , 1.5],\n",
       "       [4. , 5. , 6. , 4. ],\n",
       "       [1.5, 2. , 3. , 1.5]])"
      ]
     },
     "execution_count": 900,
     "metadata": {},
     "output_type": "execute_result"
    }
   ],
   "source": [
    "b[[1,0,1,0]][:,[0,1,2,0]]"
   ]
  },
  {
   "cell_type": "code",
   "execution_count": 902,
   "metadata": {},
   "outputs": [
    {
     "data": {
      "text/plain": [
       "array([[1.5, 4. ],\n",
       "       [2. , 5. ],\n",
       "       [3. , 6. ]])"
      ]
     },
     "execution_count": 902,
     "metadata": {},
     "output_type": "execute_result"
    }
   ],
   "source": [
    "i = np.transpose(b)\n",
    "i\n"
   ]
  },
  {
   "cell_type": "code",
   "execution_count": 852,
   "metadata": {},
   "outputs": [
    {
     "data": {
      "text/plain": [
       "array([[1.5, 2. , 3. ],\n",
       "       [4. , 5. , 6. ]])"
      ]
     },
     "execution_count": 852,
     "metadata": {},
     "output_type": "execute_result"
    }
   ],
   "source": [
    "i.T"
   ]
  },
  {
   "cell_type": "code",
   "execution_count": 853,
   "metadata": {},
   "outputs": [
    {
     "data": {
      "text/plain": [
       "array([1.5, 2. , 3. , 4. , 5. , 6. ])"
      ]
     },
     "execution_count": 853,
     "metadata": {},
     "output_type": "execute_result"
    }
   ],
   "source": [
    "b.ravel()\n"
   ]
  },
  {
   "cell_type": "code",
   "execution_count": 904,
   "metadata": {},
   "outputs": [
    {
     "data": {
      "text/plain": [
       "array([[-0.5,  0. ,  0. ],\n",
       "       [-3. , -3. , -3. ]])"
      ]
     },
     "execution_count": 904,
     "metadata": {},
     "output_type": "execute_result"
    }
   ],
   "source": [
    "g"
   ]
  },
  {
   "cell_type": "code",
   "execution_count": 903,
   "metadata": {},
   "outputs": [
    {
     "data": {
      "text/plain": [
       "array([[-0.5,  0. ],\n",
       "       [ 0. , -3. ],\n",
       "       [-3. , -3. ]])"
      ]
     },
     "execution_count": 903,
     "metadata": {},
     "output_type": "execute_result"
    }
   ],
   "source": [
    "g.reshape(3,-2)"
   ]
  },
  {
   "cell_type": "code",
   "execution_count": 911,
   "metadata": {},
   "outputs": [
    {
     "ename": "ValueError",
     "evalue": "cannot resize an array that references or is referenced\nby another array in this way.\nUse the np.resize function or refcheck=False",
     "output_type": "error",
     "traceback": [
      "\u001b[0;31m---------------------------------------------------------------------------\u001b[0m",
      "\u001b[0;31mValueError\u001b[0m                                Traceback (most recent call last)",
      "\u001b[1;32m/home/victor/Desktop/Banzae_py/Banzae-py/Numpy_cheatsheet.ipynb Cell 64'\u001b[0m in \u001b[0;36m<cell line: 1>\u001b[0;34m()\u001b[0m\n\u001b[0;32m----> <a href='vscode-notebook-cell:/home/victor/Desktop/Banzae_py/Banzae-py/Numpy_cheatsheet.ipynb#ch0000066?line=0'>1</a>\u001b[0m h\u001b[39m.\u001b[39;49mresize((\u001b[39m2\u001b[39;49m,\u001b[39m6\u001b[39;49m))\n",
      "\u001b[0;31mValueError\u001b[0m: cannot resize an array that references or is referenced\nby another array in this way.\nUse the np.resize function or refcheck=False"
     ]
    }
   ],
   "source": [
    "h.resize((2,6))\n"
   ]
  },
  {
   "cell_type": "code",
   "execution_count": 906,
   "metadata": {},
   "outputs": [
    {
     "data": {
      "text/plain": [
       "array([1, 2, 3, 1, 2, 3])"
      ]
     },
     "execution_count": 906,
     "metadata": {},
     "output_type": "execute_result"
    }
   ],
   "source": [
    "np.append(h,a)\n"
   ]
  },
  {
   "cell_type": "code",
   "execution_count": 907,
   "metadata": {},
   "outputs": [
    {
     "data": {
      "text/plain": [
       "array([1, 5, 2, 3])"
      ]
     },
     "execution_count": 907,
     "metadata": {},
     "output_type": "execute_result"
    }
   ],
   "source": [
    "np.insert(a,1,5)\n"
   ]
  },
  {
   "cell_type": "code",
   "execution_count": 909,
   "metadata": {},
   "outputs": [
    {
     "data": {
      "text/plain": [
       "array([1, 3])"
      ]
     },
     "execution_count": 909,
     "metadata": {},
     "output_type": "execute_result"
    }
   ],
   "source": [
    "np.delete(a,[1])"
   ]
  },
  {
   "cell_type": "code",
   "execution_count": 912,
   "metadata": {},
   "outputs": [
    {
     "data": {
      "text/plain": [
       "array([ 1,  2,  3, 10, 15, 20])"
      ]
     },
     "execution_count": 912,
     "metadata": {},
     "output_type": "execute_result"
    }
   ],
   "source": [
    "np.concatenate((a,d),axis=0)\n",
    "\n"
   ]
  },
  {
   "cell_type": "code",
   "execution_count": 913,
   "metadata": {},
   "outputs": [
    {
     "data": {
      "text/plain": [
       "array([[1. , 2. , 3. ],\n",
       "       [1.5, 2. , 3. ],\n",
       "       [4. , 5. , 6. ]])"
      ]
     },
     "execution_count": 913,
     "metadata": {},
     "output_type": "execute_result"
    }
   ],
   "source": [
    "np.vstack((a,b))\n"
   ]
  },
  {
   "cell_type": "code",
   "execution_count": 914,
   "metadata": {},
   "outputs": [
    {
     "data": {
      "text/plain": [
       "array([[7., 7.],\n",
       "       [7., 7.],\n",
       "       [1., 0.],\n",
       "       [0., 1.]])"
      ]
     },
     "execution_count": 914,
     "metadata": {},
     "output_type": "execute_result"
    }
   ],
   "source": [
    "np.r_[e,f]\n"
   ]
  },
  {
   "cell_type": "code",
   "execution_count": 915,
   "metadata": {},
   "outputs": [
    {
     "data": {
      "text/plain": [
       "array([[7., 7., 1., 0.],\n",
       "       [7., 7., 0., 1.]])"
      ]
     },
     "execution_count": 915,
     "metadata": {},
     "output_type": "execute_result"
    }
   ],
   "source": [
    "np.hstack((e,f))\n"
   ]
  },
  {
   "cell_type": "code",
   "execution_count": 916,
   "metadata": {},
   "outputs": [
    {
     "data": {
      "text/plain": [
       "array([[ 1, 10],\n",
       "       [ 2, 15],\n",
       "       [ 3, 20]])"
      ]
     },
     "execution_count": 916,
     "metadata": {},
     "output_type": "execute_result"
    }
   ],
   "source": [
    "np.column_stack((a,d))\n"
   ]
  },
  {
   "cell_type": "code",
   "execution_count": 917,
   "metadata": {},
   "outputs": [
    {
     "data": {
      "text/plain": [
       "array([[ 1, 10],\n",
       "       [ 2, 15],\n",
       "       [ 3, 20]])"
      ]
     },
     "execution_count": 917,
     "metadata": {},
     "output_type": "execute_result"
    }
   ],
   "source": [
    "np.c_[a,d]"
   ]
  },
  {
   "cell_type": "code",
   "execution_count": 921,
   "metadata": {},
   "outputs": [
    {
     "data": {
      "text/plain": [
       "[array([1]), array([2]), array([3])]"
      ]
     },
     "execution_count": 921,
     "metadata": {},
     "output_type": "execute_result"
    }
   ],
   "source": [
    "np.hsplit(a,3)\n"
   ]
  },
  {
   "cell_type": "code",
   "execution_count": 919,
   "metadata": {},
   "outputs": [
    {
     "data": {
      "text/plain": [
       "[array([[[1.5, 2. , 1. ],\n",
       "         [4. , 5. , 6. ]]]),\n",
       " array([[[3., 2., 3.],\n",
       "         [4., 5., 6.]]])]"
      ]
     },
     "execution_count": 919,
     "metadata": {},
     "output_type": "execute_result"
    }
   ],
   "source": [
    "np.vsplit(c,2)"
   ]
  }
 ],
 "metadata": {
  "interpreter": {
   "hash": "31f2aee4e71d21fbe5cf8b01ff0e069b9275f58929596ceb00d14d90e3e16cd6"
  },
  "kernelspec": {
   "display_name": "Python 3.9.7 64-bit",
   "language": "python",
   "name": "python3"
  },
  "language_info": {
   "codemirror_mode": {
    "name": "ipython",
    "version": 3
   },
   "file_extension": ".py",
   "mimetype": "text/x-python",
   "name": "python",
   "nbconvert_exporter": "python",
   "pygments_lexer": "ipython3",
   "version": "3.9.7"
  },
  "orig_nbformat": 4
 },
 "nbformat": 4,
 "nbformat_minor": 2
}
