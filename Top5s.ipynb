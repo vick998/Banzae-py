{
 "cells": [
  {
   "cell_type": "code",
   "execution_count": null,
   "metadata": {},
   "outputs": [],
   "source": [
    "import psycopg2 as pg2\n",
    "import pandas as pd\n",
    "import re\n",
    "conn = pg2.connect(database='dvd_rentals', user='victor', password='}H9D^E*PUHTTuB&')\n",
    "cur = conn.cursor()"
   ]
  },
  {
   "cell_type": "code",
   "execution_count": null,
   "metadata": {},
   "outputs": [],
   "source": [
    "cur.execute(\"SELECT * FROM film\")\n",
    "filmdata = cur.fetchmany(10)\n",
    "cur.execute(\"SELECT COLUMN_NAME FROM INFORMATION_SCHEMA.COLUMNS WHERE TABLE_NAME = 'film' ORDER BY ORDINAL_POSITION\")\n",
    "filmcolumns = list()\n",
    "for i in cur.fetchall():\n",
    "    filmcolumns.append(i[0])\n",
    "filmdf = pd.DataFrame(data=filmdata, columns=filmcolumns)\n",
    "filmdf\n",
    "#df from film table"
   ]
  },
  {
   "cell_type": "code",
   "execution_count": null,
   "metadata": {},
   "outputs": [],
   "source": [
    "cur.execute(\"SELECT * FROM actor\")\n",
    "actordata = cur.fetchmany(10)\n",
    "cur.execute(\"SELECT COLUMN_NAME FROM INFORMATION_SCHEMA.COLUMNS WHERE TABLE_NAME = 'actor' ORDER BY ORDINAL_POSITION\")\n",
    "actorcolumns = list()\n",
    "for i in cur.fetchall():\n",
    "    actorcolumns.append(i[0])\n",
    "actordf = pd.DataFrame(data=actordata, columns=actorcolumns)\n",
    "actordf\n",
    "#df from actor table"
   ]
  },
  {
   "cell_type": "code",
   "execution_count": null,
   "metadata": {},
   "outputs": [],
   "source": [
    "cur.execute(\"SELECT * FROM film_actor\")\n",
    "film_actordata = cur.fetchmany(10)\n",
    "cur.execute(\"SELECT COLUMN_NAME FROM INFORMATION_SCHEMA.COLUMNS WHERE TABLE_NAME = 'film_actor' ORDER BY ORDINAL_POSITION\")\n",
    "film_actorcolumns = list()\n",
    "for i in cur.fetchall():\n",
    "    film_actorcolumns.append(i[0])\n",
    "film_actordf = pd.DataFrame(data=film_actordata, columns=film_actorcolumns)\n",
    "film_actordf\n",
    "#df from film_actor table"
   ]
  },
  {
   "cell_type": "code",
   "execution_count": null,
   "metadata": {},
   "outputs": [],
   "source": [
    "cur.execute(\"SELECT * FROM rental\")\n",
    "rentaldata = cur.fetchmany(10)\n",
    "cur.execute(\"SELECT COLUMN_NAME FROM INFORMATION_SCHEMA.COLUMNS WHERE TABLE_NAME = 'rental' ORDER BY ORDINAL_POSITION\")\n",
    "rentalcolumns = list()\n",
    "for i in cur.fetchall():\n",
    "    rentalcolumns.append(i[0])\n",
    "rentaldf = pd.DataFrame(data=rentaldata, columns=rentalcolumns)\n",
    "rentaldf\n",
    "#df from rental table"
   ]
  },
  {
   "cell_type": "code",
   "execution_count": null,
   "metadata": {},
   "outputs": [],
   "source": [
    "cur.execute(\"SELECT * FROM payment\")\n",
    "paymentdata = cur.fetchmany(10)\n",
    "cur.execute(\"SELECT COLUMN_NAME FROM INFORMATION_SCHEMA.COLUMNS WHERE TABLE_NAME = 'payment' ORDER BY ORDINAL_POSITION\")\n",
    "paymentcolumns = list()\n",
    "for i in cur.fetchall():\n",
    "    paymentcolumns.append(i[0])\n",
    "paymentdf = pd.DataFrame(data=paymentdata, columns=paymentcolumns)\n",
    "paymentdf\n",
    "#df from payment table"
   ]
  },
  {
   "cell_type": "code",
   "execution_count": null,
   "metadata": {},
   "outputs": [],
   "source": [
    "cur.execute(\"SELECT * FROM inventory\")\n",
    "inventorydata = cur.fetchmany(10)\n",
    "cur.execute(\"SELECT COLUMN_NAME FROM INFORMATION_SCHEMA.COLUMNS WHERE TABLE_NAME = 'inventory' ORDER BY ORDINAL_POSITION\")\n",
    "inventorycolumns = list()\n",
    "for i in cur.fetchall():\n",
    "    inventorycolumns.append(i[0])\n",
    "inventorydf = pd.DataFrame(data=inventorydata, columns=inventorycolumns)\n",
    "inventorydf\n",
    "#df from inventory table"
   ]
  },
  {
   "cell_type": "code",
   "execution_count": null,
   "metadata": {},
   "outputs": [],
   "source": [
    "cur.execute(\"SELECT * FROM film_category\")\n",
    "film_categorydata = cur.fetchmany(10)\n",
    "cur.execute(\"SELECT COLUMN_NAME FROM INFORMATION_SCHEMA.COLUMNS WHERE TABLE_NAME = 'film_category' ORDER BY ORDINAL_POSITION\")\n",
    "film_categorycolumns = list()\n",
    "for i in cur.fetchall():\n",
    "    film_categorycolumns.append(i[0])\n",
    "film_categorydf = pd.DataFrame(data=film_categorydata, columns=film_categorycolumns)\n",
    "film_categorydf\n",
    "#df from film_category table"
   ]
  },
  {
   "cell_type": "code",
   "execution_count": null,
   "metadata": {},
   "outputs": [],
   "source": [
    "cur.execute(\"SELECT * FROM category\")\n",
    "categorydata = cur.fetchmany(10)\n",
    "cur.execute(\"SELECT COLUMN_NAME FROM INFORMATION_SCHEMA.COLUMNS WHERE TABLE_NAME = 'category' ORDER BY ORDINAL_POSITION\")\n",
    "categorycolumns = list()\n",
    "for i in cur.fetchall():\n",
    "    categorycolumns.append(i[0])\n",
    "categorydf = pd.DataFrame(data=categorydata, columns=categorycolumns)\n",
    "categorydf\n",
    "#df from category table"
   ]
  },
  {
   "cell_type": "code",
   "execution_count": null,
   "metadata": {},
   "outputs": [],
   "source": [
    "cur.execute(\"SELECT * FROM staff\")\n",
    "staffdata = cur.fetchmany(10)\n",
    "cur.execute(\"SELECT COLUMN_NAME FROM INFORMATION_SCHEMA.COLUMNS WHERE TABLE_NAME = 'staff' ORDER BY ORDINAL_POSITION\")\n",
    "staffcolumns = list()\n",
    "for i in cur.fetchall():\n",
    "    staffcolumns.append(i[0])\n",
    "staffdf = pd.DataFrame(data=staffdata, columns=staffcolumns)\n",
    "staffdf\n",
    "#df from staff table"
   ]
  },
  {
   "cell_type": "code",
   "execution_count": null,
   "metadata": {},
   "outputs": [],
   "source": [
    "cur.execute(\"SELECT * FROM store\")\n",
    "storedata = cur.fetchmany(10)\n",
    "cur.execute(\"SELECT COLUMN_NAME FROM INFORMATION_SCHEMA.COLUMNS WHERE TABLE_NAME = 'store' ORDER BY ORDINAL_POSITION\")\n",
    "storecolumns = list()\n",
    "for i in cur.fetchall():\n",
    "    storecolumns.append(i[0])\n",
    "storedf = pd.DataFrame(data=storedata, columns=storecolumns)\n",
    "storedf\n",
    "#df from store table"
   ]
  },
  {
   "cell_type": "code",
   "execution_count": null,
   "metadata": {},
   "outputs": [],
   "source": [
    "#1 master\n",
    "df1 = pd.merge(filmdf, film_actordf, how='left', on='film_id')\n",
    "df2 = pd.merge(df1, actordf, how='left', on='actor_id')\n",
    "df3 = pd.merge(df2, inventorydf, how='left', on='film_id')\n",
    "df4 = pd.merge(df3, rentaldf, how='left', on='inventory_id')\n",
    "m1 = pd.merge(df4, paymentdf, how='left', on='rental_id')\n",
    "m1"
   ]
  },
  {
   "cell_type": "code",
   "execution_count": null,
   "metadata": {},
   "outputs": [],
   "source": [
    "#2 master\n",
    "df11 = pd.merge(filmdf, film_categorydf, how='left', on='film_id')\n",
    "df12 = pd.merge(df1, categorydf, how='left', on='category_id')\n",
    "df13 = pd.merge(df2, inventorydf, how='left', on='film_id')\n",
    "df14 = pd.merge(df3, rentaldf, how='left', on='inventory_id')\n",
    "m2 = pd.merge(df4, paymentdf, how='left', on='rental_id')\n",
    "m2"
   ]
  },
  {
   "cell_type": "code",
   "execution_count": null,
   "metadata": {},
   "outputs": [],
   "source": [
    "#3 & 4 master\n",
    "df21 = pd.merge(filmdf, inventorydf, how='left', on='film_id')\n",
    "df22 = pd.merge(df1, rentaldf, how='left', on='category_id')\n",
    "df23 = pd.merge(df2, paymentdf, how='left', on='film_id')\n",
    "df24 = pd.merge(df3, staffdf, how='left', on='inventory_id')\n",
    "m3_4 = pd.merge(df4, storedf, how='left', on='rental_id')\n",
    "m3_4"
   ]
  }
 ],
 "metadata": {
  "language_info": {
   "name": "python"
  },
  "orig_nbformat": 4
 },
 "nbformat": 4,
 "nbformat_minor": 2
}
